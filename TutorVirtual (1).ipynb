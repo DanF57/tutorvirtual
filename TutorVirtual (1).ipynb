{
  "nbformat": 4,
  "nbformat_minor": 0,
  "metadata": {
    "colab": {
      "provenance": [],
      "collapsed_sections": [
        "kzx0ASpT7PG0",
        "tZQEJp3FbVOE",
        "_5UtSZrx7OsO",
        "XPVg5Gqn2ZMX",
        "W5qdg2NjWJFF",
        "_d4hTSv3APLj",
        "66wRIBtZELgZ",
        "xNdE-Wb2EOIc",
        "n9CpZ88nGnF0",
        "lEsbuDb1ERA2",
        "r3cgwQIWHN8p",
        "Hde7XBQDETQP"
      ]
    },
    "kernelspec": {
      "name": "python3",
      "display_name": "Python 3"
    },
    "language_info": {
      "name": "python"
    },
    "widgets": {
      "application/vnd.jupyter.widget-state+json": {
        "b6deee6b049242eb83f7188b0fddacf5": {
          "model_module": "@jupyter-widgets/controls",
          "model_name": "HBoxModel",
          "model_module_version": "1.5.0",
          "state": {
            "_dom_classes": [],
            "_model_module": "@jupyter-widgets/controls",
            "_model_module_version": "1.5.0",
            "_model_name": "HBoxModel",
            "_view_count": null,
            "_view_module": "@jupyter-widgets/controls",
            "_view_module_version": "1.5.0",
            "_view_name": "HBoxView",
            "box_style": "",
            "children": [
              "IPY_MODEL_ee0a50c5bf91435094af185aeca32227",
              "IPY_MODEL_c3b6c27e1e0c48d899916b2b93dcea7a",
              "IPY_MODEL_a376c537c4854ffb8cd877734b4676eb"
            ],
            "layout": "IPY_MODEL_654887ed2321475eba310bea779ed008"
          }
        },
        "ee0a50c5bf91435094af185aeca32227": {
          "model_module": "@jupyter-widgets/controls",
          "model_name": "HTMLModel",
          "model_module_version": "1.5.0",
          "state": {
            "_dom_classes": [],
            "_model_module": "@jupyter-widgets/controls",
            "_model_module_version": "1.5.0",
            "_model_name": "HTMLModel",
            "_view_count": null,
            "_view_module": "@jupyter-widgets/controls",
            "_view_module_version": "1.5.0",
            "_view_name": "HTMLView",
            "description": "",
            "description_tooltip": null,
            "layout": "IPY_MODEL_58afb47cc34e45fb86619b7d85e1a369",
            "placeholder": "​",
            "style": "IPY_MODEL_da28e5ffa5af43adbf946eeee9b10a9e",
            "value": "modules.json: 100%"
          }
        },
        "c3b6c27e1e0c48d899916b2b93dcea7a": {
          "model_module": "@jupyter-widgets/controls",
          "model_name": "FloatProgressModel",
          "model_module_version": "1.5.0",
          "state": {
            "_dom_classes": [],
            "_model_module": "@jupyter-widgets/controls",
            "_model_module_version": "1.5.0",
            "_model_name": "FloatProgressModel",
            "_view_count": null,
            "_view_module": "@jupyter-widgets/controls",
            "_view_module_version": "1.5.0",
            "_view_name": "ProgressView",
            "bar_style": "success",
            "description": "",
            "description_tooltip": null,
            "layout": "IPY_MODEL_7d1a783f51e44966a1513610118e0228",
            "max": 229,
            "min": 0,
            "orientation": "horizontal",
            "style": "IPY_MODEL_f0cf7f3fc36f44f68661862a716bec17",
            "value": 229
          }
        },
        "a376c537c4854ffb8cd877734b4676eb": {
          "model_module": "@jupyter-widgets/controls",
          "model_name": "HTMLModel",
          "model_module_version": "1.5.0",
          "state": {
            "_dom_classes": [],
            "_model_module": "@jupyter-widgets/controls",
            "_model_module_version": "1.5.0",
            "_model_name": "HTMLModel",
            "_view_count": null,
            "_view_module": "@jupyter-widgets/controls",
            "_view_module_version": "1.5.0",
            "_view_name": "HTMLView",
            "description": "",
            "description_tooltip": null,
            "layout": "IPY_MODEL_9a588a66828b4e52870e2c7e47c50010",
            "placeholder": "​",
            "style": "IPY_MODEL_2c0ac0ad3a8b42ccbef983601f279fdd",
            "value": " 229/229 [00:00&lt;00:00, 19.6kB/s]"
          }
        },
        "654887ed2321475eba310bea779ed008": {
          "model_module": "@jupyter-widgets/base",
          "model_name": "LayoutModel",
          "model_module_version": "1.2.0",
          "state": {
            "_model_module": "@jupyter-widgets/base",
            "_model_module_version": "1.2.0",
            "_model_name": "LayoutModel",
            "_view_count": null,
            "_view_module": "@jupyter-widgets/base",
            "_view_module_version": "1.2.0",
            "_view_name": "LayoutView",
            "align_content": null,
            "align_items": null,
            "align_self": null,
            "border": null,
            "bottom": null,
            "display": null,
            "flex": null,
            "flex_flow": null,
            "grid_area": null,
            "grid_auto_columns": null,
            "grid_auto_flow": null,
            "grid_auto_rows": null,
            "grid_column": null,
            "grid_gap": null,
            "grid_row": null,
            "grid_template_areas": null,
            "grid_template_columns": null,
            "grid_template_rows": null,
            "height": null,
            "justify_content": null,
            "justify_items": null,
            "left": null,
            "margin": null,
            "max_height": null,
            "max_width": null,
            "min_height": null,
            "min_width": null,
            "object_fit": null,
            "object_position": null,
            "order": null,
            "overflow": null,
            "overflow_x": null,
            "overflow_y": null,
            "padding": null,
            "right": null,
            "top": null,
            "visibility": null,
            "width": null
          }
        },
        "58afb47cc34e45fb86619b7d85e1a369": {
          "model_module": "@jupyter-widgets/base",
          "model_name": "LayoutModel",
          "model_module_version": "1.2.0",
          "state": {
            "_model_module": "@jupyter-widgets/base",
            "_model_module_version": "1.2.0",
            "_model_name": "LayoutModel",
            "_view_count": null,
            "_view_module": "@jupyter-widgets/base",
            "_view_module_version": "1.2.0",
            "_view_name": "LayoutView",
            "align_content": null,
            "align_items": null,
            "align_self": null,
            "border": null,
            "bottom": null,
            "display": null,
            "flex": null,
            "flex_flow": null,
            "grid_area": null,
            "grid_auto_columns": null,
            "grid_auto_flow": null,
            "grid_auto_rows": null,
            "grid_column": null,
            "grid_gap": null,
            "grid_row": null,
            "grid_template_areas": null,
            "grid_template_columns": null,
            "grid_template_rows": null,
            "height": null,
            "justify_content": null,
            "justify_items": null,
            "left": null,
            "margin": null,
            "max_height": null,
            "max_width": null,
            "min_height": null,
            "min_width": null,
            "object_fit": null,
            "object_position": null,
            "order": null,
            "overflow": null,
            "overflow_x": null,
            "overflow_y": null,
            "padding": null,
            "right": null,
            "top": null,
            "visibility": null,
            "width": null
          }
        },
        "da28e5ffa5af43adbf946eeee9b10a9e": {
          "model_module": "@jupyter-widgets/controls",
          "model_name": "DescriptionStyleModel",
          "model_module_version": "1.5.0",
          "state": {
            "_model_module": "@jupyter-widgets/controls",
            "_model_module_version": "1.5.0",
            "_model_name": "DescriptionStyleModel",
            "_view_count": null,
            "_view_module": "@jupyter-widgets/base",
            "_view_module_version": "1.2.0",
            "_view_name": "StyleView",
            "description_width": ""
          }
        },
        "7d1a783f51e44966a1513610118e0228": {
          "model_module": "@jupyter-widgets/base",
          "model_name": "LayoutModel",
          "model_module_version": "1.2.0",
          "state": {
            "_model_module": "@jupyter-widgets/base",
            "_model_module_version": "1.2.0",
            "_model_name": "LayoutModel",
            "_view_count": null,
            "_view_module": "@jupyter-widgets/base",
            "_view_module_version": "1.2.0",
            "_view_name": "LayoutView",
            "align_content": null,
            "align_items": null,
            "align_self": null,
            "border": null,
            "bottom": null,
            "display": null,
            "flex": null,
            "flex_flow": null,
            "grid_area": null,
            "grid_auto_columns": null,
            "grid_auto_flow": null,
            "grid_auto_rows": null,
            "grid_column": null,
            "grid_gap": null,
            "grid_row": null,
            "grid_template_areas": null,
            "grid_template_columns": null,
            "grid_template_rows": null,
            "height": null,
            "justify_content": null,
            "justify_items": null,
            "left": null,
            "margin": null,
            "max_height": null,
            "max_width": null,
            "min_height": null,
            "min_width": null,
            "object_fit": null,
            "object_position": null,
            "order": null,
            "overflow": null,
            "overflow_x": null,
            "overflow_y": null,
            "padding": null,
            "right": null,
            "top": null,
            "visibility": null,
            "width": null
          }
        },
        "f0cf7f3fc36f44f68661862a716bec17": {
          "model_module": "@jupyter-widgets/controls",
          "model_name": "ProgressStyleModel",
          "model_module_version": "1.5.0",
          "state": {
            "_model_module": "@jupyter-widgets/controls",
            "_model_module_version": "1.5.0",
            "_model_name": "ProgressStyleModel",
            "_view_count": null,
            "_view_module": "@jupyter-widgets/base",
            "_view_module_version": "1.2.0",
            "_view_name": "StyleView",
            "bar_color": null,
            "description_width": ""
          }
        },
        "9a588a66828b4e52870e2c7e47c50010": {
          "model_module": "@jupyter-widgets/base",
          "model_name": "LayoutModel",
          "model_module_version": "1.2.0",
          "state": {
            "_model_module": "@jupyter-widgets/base",
            "_model_module_version": "1.2.0",
            "_model_name": "LayoutModel",
            "_view_count": null,
            "_view_module": "@jupyter-widgets/base",
            "_view_module_version": "1.2.0",
            "_view_name": "LayoutView",
            "align_content": null,
            "align_items": null,
            "align_self": null,
            "border": null,
            "bottom": null,
            "display": null,
            "flex": null,
            "flex_flow": null,
            "grid_area": null,
            "grid_auto_columns": null,
            "grid_auto_flow": null,
            "grid_auto_rows": null,
            "grid_column": null,
            "grid_gap": null,
            "grid_row": null,
            "grid_template_areas": null,
            "grid_template_columns": null,
            "grid_template_rows": null,
            "height": null,
            "justify_content": null,
            "justify_items": null,
            "left": null,
            "margin": null,
            "max_height": null,
            "max_width": null,
            "min_height": null,
            "min_width": null,
            "object_fit": null,
            "object_position": null,
            "order": null,
            "overflow": null,
            "overflow_x": null,
            "overflow_y": null,
            "padding": null,
            "right": null,
            "top": null,
            "visibility": null,
            "width": null
          }
        },
        "2c0ac0ad3a8b42ccbef983601f279fdd": {
          "model_module": "@jupyter-widgets/controls",
          "model_name": "DescriptionStyleModel",
          "model_module_version": "1.5.0",
          "state": {
            "_model_module": "@jupyter-widgets/controls",
            "_model_module_version": "1.5.0",
            "_model_name": "DescriptionStyleModel",
            "_view_count": null,
            "_view_module": "@jupyter-widgets/base",
            "_view_module_version": "1.2.0",
            "_view_name": "StyleView",
            "description_width": ""
          }
        },
        "a401ff4b264b42c6823e96c86afac5d8": {
          "model_module": "@jupyter-widgets/controls",
          "model_name": "HBoxModel",
          "model_module_version": "1.5.0",
          "state": {
            "_dom_classes": [],
            "_model_module": "@jupyter-widgets/controls",
            "_model_module_version": "1.5.0",
            "_model_name": "HBoxModel",
            "_view_count": null,
            "_view_module": "@jupyter-widgets/controls",
            "_view_module_version": "1.5.0",
            "_view_name": "HBoxView",
            "box_style": "",
            "children": [
              "IPY_MODEL_a0d58b3aed194d219be8b5bb20d0097a",
              "IPY_MODEL_cde31e579db94963b37399aa42407217",
              "IPY_MODEL_edbf6292cf5c41048a7e207261813877"
            ],
            "layout": "IPY_MODEL_1f14d7e88ce9446aa09df7f39893b9aa"
          }
        },
        "a0d58b3aed194d219be8b5bb20d0097a": {
          "model_module": "@jupyter-widgets/controls",
          "model_name": "HTMLModel",
          "model_module_version": "1.5.0",
          "state": {
            "_dom_classes": [],
            "_model_module": "@jupyter-widgets/controls",
            "_model_module_version": "1.5.0",
            "_model_name": "HTMLModel",
            "_view_count": null,
            "_view_module": "@jupyter-widgets/controls",
            "_view_module_version": "1.5.0",
            "_view_name": "HTMLView",
            "description": "",
            "description_tooltip": null,
            "layout": "IPY_MODEL_2c73b52da3ff4dcc866bf9666019fa37",
            "placeholder": "​",
            "style": "IPY_MODEL_6da99cae51ab4db3969d3aab4933b199",
            "value": "config_sentence_transformers.json: 100%"
          }
        },
        "cde31e579db94963b37399aa42407217": {
          "model_module": "@jupyter-widgets/controls",
          "model_name": "FloatProgressModel",
          "model_module_version": "1.5.0",
          "state": {
            "_dom_classes": [],
            "_model_module": "@jupyter-widgets/controls",
            "_model_module_version": "1.5.0",
            "_model_name": "FloatProgressModel",
            "_view_count": null,
            "_view_module": "@jupyter-widgets/controls",
            "_view_module_version": "1.5.0",
            "_view_name": "ProgressView",
            "bar_style": "success",
            "description": "",
            "description_tooltip": null,
            "layout": "IPY_MODEL_527feafdd0ae46b9a60d86b7a1fc0716",
            "max": 122,
            "min": 0,
            "orientation": "horizontal",
            "style": "IPY_MODEL_156c9e0004e44a20b1cd71c60e7af3aa",
            "value": 122
          }
        },
        "edbf6292cf5c41048a7e207261813877": {
          "model_module": "@jupyter-widgets/controls",
          "model_name": "HTMLModel",
          "model_module_version": "1.5.0",
          "state": {
            "_dom_classes": [],
            "_model_module": "@jupyter-widgets/controls",
            "_model_module_version": "1.5.0",
            "_model_name": "HTMLModel",
            "_view_count": null,
            "_view_module": "@jupyter-widgets/controls",
            "_view_module_version": "1.5.0",
            "_view_name": "HTMLView",
            "description": "",
            "description_tooltip": null,
            "layout": "IPY_MODEL_b7ae61f584f74296a822e114ca24c8a1",
            "placeholder": "​",
            "style": "IPY_MODEL_01e302570d4f4f9e99bbe48a21ca6b35",
            "value": " 122/122 [00:00&lt;00:00, 10.4kB/s]"
          }
        },
        "1f14d7e88ce9446aa09df7f39893b9aa": {
          "model_module": "@jupyter-widgets/base",
          "model_name": "LayoutModel",
          "model_module_version": "1.2.0",
          "state": {
            "_model_module": "@jupyter-widgets/base",
            "_model_module_version": "1.2.0",
            "_model_name": "LayoutModel",
            "_view_count": null,
            "_view_module": "@jupyter-widgets/base",
            "_view_module_version": "1.2.0",
            "_view_name": "LayoutView",
            "align_content": null,
            "align_items": null,
            "align_self": null,
            "border": null,
            "bottom": null,
            "display": null,
            "flex": null,
            "flex_flow": null,
            "grid_area": null,
            "grid_auto_columns": null,
            "grid_auto_flow": null,
            "grid_auto_rows": null,
            "grid_column": null,
            "grid_gap": null,
            "grid_row": null,
            "grid_template_areas": null,
            "grid_template_columns": null,
            "grid_template_rows": null,
            "height": null,
            "justify_content": null,
            "justify_items": null,
            "left": null,
            "margin": null,
            "max_height": null,
            "max_width": null,
            "min_height": null,
            "min_width": null,
            "object_fit": null,
            "object_position": null,
            "order": null,
            "overflow": null,
            "overflow_x": null,
            "overflow_y": null,
            "padding": null,
            "right": null,
            "top": null,
            "visibility": null,
            "width": null
          }
        },
        "2c73b52da3ff4dcc866bf9666019fa37": {
          "model_module": "@jupyter-widgets/base",
          "model_name": "LayoutModel",
          "model_module_version": "1.2.0",
          "state": {
            "_model_module": "@jupyter-widgets/base",
            "_model_module_version": "1.2.0",
            "_model_name": "LayoutModel",
            "_view_count": null,
            "_view_module": "@jupyter-widgets/base",
            "_view_module_version": "1.2.0",
            "_view_name": "LayoutView",
            "align_content": null,
            "align_items": null,
            "align_self": null,
            "border": null,
            "bottom": null,
            "display": null,
            "flex": null,
            "flex_flow": null,
            "grid_area": null,
            "grid_auto_columns": null,
            "grid_auto_flow": null,
            "grid_auto_rows": null,
            "grid_column": null,
            "grid_gap": null,
            "grid_row": null,
            "grid_template_areas": null,
            "grid_template_columns": null,
            "grid_template_rows": null,
            "height": null,
            "justify_content": null,
            "justify_items": null,
            "left": null,
            "margin": null,
            "max_height": null,
            "max_width": null,
            "min_height": null,
            "min_width": null,
            "object_fit": null,
            "object_position": null,
            "order": null,
            "overflow": null,
            "overflow_x": null,
            "overflow_y": null,
            "padding": null,
            "right": null,
            "top": null,
            "visibility": null,
            "width": null
          }
        },
        "6da99cae51ab4db3969d3aab4933b199": {
          "model_module": "@jupyter-widgets/controls",
          "model_name": "DescriptionStyleModel",
          "model_module_version": "1.5.0",
          "state": {
            "_model_module": "@jupyter-widgets/controls",
            "_model_module_version": "1.5.0",
            "_model_name": "DescriptionStyleModel",
            "_view_count": null,
            "_view_module": "@jupyter-widgets/base",
            "_view_module_version": "1.2.0",
            "_view_name": "StyleView",
            "description_width": ""
          }
        },
        "527feafdd0ae46b9a60d86b7a1fc0716": {
          "model_module": "@jupyter-widgets/base",
          "model_name": "LayoutModel",
          "model_module_version": "1.2.0",
          "state": {
            "_model_module": "@jupyter-widgets/base",
            "_model_module_version": "1.2.0",
            "_model_name": "LayoutModel",
            "_view_count": null,
            "_view_module": "@jupyter-widgets/base",
            "_view_module_version": "1.2.0",
            "_view_name": "LayoutView",
            "align_content": null,
            "align_items": null,
            "align_self": null,
            "border": null,
            "bottom": null,
            "display": null,
            "flex": null,
            "flex_flow": null,
            "grid_area": null,
            "grid_auto_columns": null,
            "grid_auto_flow": null,
            "grid_auto_rows": null,
            "grid_column": null,
            "grid_gap": null,
            "grid_row": null,
            "grid_template_areas": null,
            "grid_template_columns": null,
            "grid_template_rows": null,
            "height": null,
            "justify_content": null,
            "justify_items": null,
            "left": null,
            "margin": null,
            "max_height": null,
            "max_width": null,
            "min_height": null,
            "min_width": null,
            "object_fit": null,
            "object_position": null,
            "order": null,
            "overflow": null,
            "overflow_x": null,
            "overflow_y": null,
            "padding": null,
            "right": null,
            "top": null,
            "visibility": null,
            "width": null
          }
        },
        "156c9e0004e44a20b1cd71c60e7af3aa": {
          "model_module": "@jupyter-widgets/controls",
          "model_name": "ProgressStyleModel",
          "model_module_version": "1.5.0",
          "state": {
            "_model_module": "@jupyter-widgets/controls",
            "_model_module_version": "1.5.0",
            "_model_name": "ProgressStyleModel",
            "_view_count": null,
            "_view_module": "@jupyter-widgets/base",
            "_view_module_version": "1.2.0",
            "_view_name": "StyleView",
            "bar_color": null,
            "description_width": ""
          }
        },
        "b7ae61f584f74296a822e114ca24c8a1": {
          "model_module": "@jupyter-widgets/base",
          "model_name": "LayoutModel",
          "model_module_version": "1.2.0",
          "state": {
            "_model_module": "@jupyter-widgets/base",
            "_model_module_version": "1.2.0",
            "_model_name": "LayoutModel",
            "_view_count": null,
            "_view_module": "@jupyter-widgets/base",
            "_view_module_version": "1.2.0",
            "_view_name": "LayoutView",
            "align_content": null,
            "align_items": null,
            "align_self": null,
            "border": null,
            "bottom": null,
            "display": null,
            "flex": null,
            "flex_flow": null,
            "grid_area": null,
            "grid_auto_columns": null,
            "grid_auto_flow": null,
            "grid_auto_rows": null,
            "grid_column": null,
            "grid_gap": null,
            "grid_row": null,
            "grid_template_areas": null,
            "grid_template_columns": null,
            "grid_template_rows": null,
            "height": null,
            "justify_content": null,
            "justify_items": null,
            "left": null,
            "margin": null,
            "max_height": null,
            "max_width": null,
            "min_height": null,
            "min_width": null,
            "object_fit": null,
            "object_position": null,
            "order": null,
            "overflow": null,
            "overflow_x": null,
            "overflow_y": null,
            "padding": null,
            "right": null,
            "top": null,
            "visibility": null,
            "width": null
          }
        },
        "01e302570d4f4f9e99bbe48a21ca6b35": {
          "model_module": "@jupyter-widgets/controls",
          "model_name": "DescriptionStyleModel",
          "model_module_version": "1.5.0",
          "state": {
            "_model_module": "@jupyter-widgets/controls",
            "_model_module_version": "1.5.0",
            "_model_name": "DescriptionStyleModel",
            "_view_count": null,
            "_view_module": "@jupyter-widgets/base",
            "_view_module_version": "1.2.0",
            "_view_name": "StyleView",
            "description_width": ""
          }
        },
        "ba49e2bcbdfc412dba283120f654b83f": {
          "model_module": "@jupyter-widgets/controls",
          "model_name": "HBoxModel",
          "model_module_version": "1.5.0",
          "state": {
            "_dom_classes": [],
            "_model_module": "@jupyter-widgets/controls",
            "_model_module_version": "1.5.0",
            "_model_name": "HBoxModel",
            "_view_count": null,
            "_view_module": "@jupyter-widgets/controls",
            "_view_module_version": "1.5.0",
            "_view_name": "HBoxView",
            "box_style": "",
            "children": [
              "IPY_MODEL_0f83ebc7ff6640c497cabab9e9178425",
              "IPY_MODEL_8100ed8a22a04c39b981c7aaf70858f6",
              "IPY_MODEL_6f1665a80e7f4259ae91af708bad28ec"
            ],
            "layout": "IPY_MODEL_2b3bb6aa7ed84a1286db0d8034b680be"
          }
        },
        "0f83ebc7ff6640c497cabab9e9178425": {
          "model_module": "@jupyter-widgets/controls",
          "model_name": "HTMLModel",
          "model_module_version": "1.5.0",
          "state": {
            "_dom_classes": [],
            "_model_module": "@jupyter-widgets/controls",
            "_model_module_version": "1.5.0",
            "_model_name": "HTMLModel",
            "_view_count": null,
            "_view_module": "@jupyter-widgets/controls",
            "_view_module_version": "1.5.0",
            "_view_name": "HTMLView",
            "description": "",
            "description_tooltip": null,
            "layout": "IPY_MODEL_38818a4b61c14555ab7c44f4e56f5029",
            "placeholder": "​",
            "style": "IPY_MODEL_aaaa469ee5b946388475ff794b5ff079",
            "value": "README.md: 100%"
          }
        },
        "8100ed8a22a04c39b981c7aaf70858f6": {
          "model_module": "@jupyter-widgets/controls",
          "model_name": "FloatProgressModel",
          "model_module_version": "1.5.0",
          "state": {
            "_dom_classes": [],
            "_model_module": "@jupyter-widgets/controls",
            "_model_module_version": "1.5.0",
            "_model_name": "FloatProgressModel",
            "_view_count": null,
            "_view_module": "@jupyter-widgets/controls",
            "_view_module_version": "1.5.0",
            "_view_name": "ProgressView",
            "bar_style": "success",
            "description": "",
            "description_tooltip": null,
            "layout": "IPY_MODEL_9441e111a9654998be00bb807a83f2bf",
            "max": 4126,
            "min": 0,
            "orientation": "horizontal",
            "style": "IPY_MODEL_29e38ef743fa459e94d3584ca171e0a0",
            "value": 4126
          }
        },
        "6f1665a80e7f4259ae91af708bad28ec": {
          "model_module": "@jupyter-widgets/controls",
          "model_name": "HTMLModel",
          "model_module_version": "1.5.0",
          "state": {
            "_dom_classes": [],
            "_model_module": "@jupyter-widgets/controls",
            "_model_module_version": "1.5.0",
            "_model_name": "HTMLModel",
            "_view_count": null,
            "_view_module": "@jupyter-widgets/controls",
            "_view_module_version": "1.5.0",
            "_view_name": "HTMLView",
            "description": "",
            "description_tooltip": null,
            "layout": "IPY_MODEL_f45166144be6413babb1cb304ad94bfe",
            "placeholder": "​",
            "style": "IPY_MODEL_fd23f10dd2944044b06434c40e5f044b",
            "value": " 4.13k/4.13k [00:00&lt;00:00, 360kB/s]"
          }
        },
        "2b3bb6aa7ed84a1286db0d8034b680be": {
          "model_module": "@jupyter-widgets/base",
          "model_name": "LayoutModel",
          "model_module_version": "1.2.0",
          "state": {
            "_model_module": "@jupyter-widgets/base",
            "_model_module_version": "1.2.0",
            "_model_name": "LayoutModel",
            "_view_count": null,
            "_view_module": "@jupyter-widgets/base",
            "_view_module_version": "1.2.0",
            "_view_name": "LayoutView",
            "align_content": null,
            "align_items": null,
            "align_self": null,
            "border": null,
            "bottom": null,
            "display": null,
            "flex": null,
            "flex_flow": null,
            "grid_area": null,
            "grid_auto_columns": null,
            "grid_auto_flow": null,
            "grid_auto_rows": null,
            "grid_column": null,
            "grid_gap": null,
            "grid_row": null,
            "grid_template_areas": null,
            "grid_template_columns": null,
            "grid_template_rows": null,
            "height": null,
            "justify_content": null,
            "justify_items": null,
            "left": null,
            "margin": null,
            "max_height": null,
            "max_width": null,
            "min_height": null,
            "min_width": null,
            "object_fit": null,
            "object_position": null,
            "order": null,
            "overflow": null,
            "overflow_x": null,
            "overflow_y": null,
            "padding": null,
            "right": null,
            "top": null,
            "visibility": null,
            "width": null
          }
        },
        "38818a4b61c14555ab7c44f4e56f5029": {
          "model_module": "@jupyter-widgets/base",
          "model_name": "LayoutModel",
          "model_module_version": "1.2.0",
          "state": {
            "_model_module": "@jupyter-widgets/base",
            "_model_module_version": "1.2.0",
            "_model_name": "LayoutModel",
            "_view_count": null,
            "_view_module": "@jupyter-widgets/base",
            "_view_module_version": "1.2.0",
            "_view_name": "LayoutView",
            "align_content": null,
            "align_items": null,
            "align_self": null,
            "border": null,
            "bottom": null,
            "display": null,
            "flex": null,
            "flex_flow": null,
            "grid_area": null,
            "grid_auto_columns": null,
            "grid_auto_flow": null,
            "grid_auto_rows": null,
            "grid_column": null,
            "grid_gap": null,
            "grid_row": null,
            "grid_template_areas": null,
            "grid_template_columns": null,
            "grid_template_rows": null,
            "height": null,
            "justify_content": null,
            "justify_items": null,
            "left": null,
            "margin": null,
            "max_height": null,
            "max_width": null,
            "min_height": null,
            "min_width": null,
            "object_fit": null,
            "object_position": null,
            "order": null,
            "overflow": null,
            "overflow_x": null,
            "overflow_y": null,
            "padding": null,
            "right": null,
            "top": null,
            "visibility": null,
            "width": null
          }
        },
        "aaaa469ee5b946388475ff794b5ff079": {
          "model_module": "@jupyter-widgets/controls",
          "model_name": "DescriptionStyleModel",
          "model_module_version": "1.5.0",
          "state": {
            "_model_module": "@jupyter-widgets/controls",
            "_model_module_version": "1.5.0",
            "_model_name": "DescriptionStyleModel",
            "_view_count": null,
            "_view_module": "@jupyter-widgets/base",
            "_view_module_version": "1.2.0",
            "_view_name": "StyleView",
            "description_width": ""
          }
        },
        "9441e111a9654998be00bb807a83f2bf": {
          "model_module": "@jupyter-widgets/base",
          "model_name": "LayoutModel",
          "model_module_version": "1.2.0",
          "state": {
            "_model_module": "@jupyter-widgets/base",
            "_model_module_version": "1.2.0",
            "_model_name": "LayoutModel",
            "_view_count": null,
            "_view_module": "@jupyter-widgets/base",
            "_view_module_version": "1.2.0",
            "_view_name": "LayoutView",
            "align_content": null,
            "align_items": null,
            "align_self": null,
            "border": null,
            "bottom": null,
            "display": null,
            "flex": null,
            "flex_flow": null,
            "grid_area": null,
            "grid_auto_columns": null,
            "grid_auto_flow": null,
            "grid_auto_rows": null,
            "grid_column": null,
            "grid_gap": null,
            "grid_row": null,
            "grid_template_areas": null,
            "grid_template_columns": null,
            "grid_template_rows": null,
            "height": null,
            "justify_content": null,
            "justify_items": null,
            "left": null,
            "margin": null,
            "max_height": null,
            "max_width": null,
            "min_height": null,
            "min_width": null,
            "object_fit": null,
            "object_position": null,
            "order": null,
            "overflow": null,
            "overflow_x": null,
            "overflow_y": null,
            "padding": null,
            "right": null,
            "top": null,
            "visibility": null,
            "width": null
          }
        },
        "29e38ef743fa459e94d3584ca171e0a0": {
          "model_module": "@jupyter-widgets/controls",
          "model_name": "ProgressStyleModel",
          "model_module_version": "1.5.0",
          "state": {
            "_model_module": "@jupyter-widgets/controls",
            "_model_module_version": "1.5.0",
            "_model_name": "ProgressStyleModel",
            "_view_count": null,
            "_view_module": "@jupyter-widgets/base",
            "_view_module_version": "1.2.0",
            "_view_name": "StyleView",
            "bar_color": null,
            "description_width": ""
          }
        },
        "f45166144be6413babb1cb304ad94bfe": {
          "model_module": "@jupyter-widgets/base",
          "model_name": "LayoutModel",
          "model_module_version": "1.2.0",
          "state": {
            "_model_module": "@jupyter-widgets/base",
            "_model_module_version": "1.2.0",
            "_model_name": "LayoutModel",
            "_view_count": null,
            "_view_module": "@jupyter-widgets/base",
            "_view_module_version": "1.2.0",
            "_view_name": "LayoutView",
            "align_content": null,
            "align_items": null,
            "align_self": null,
            "border": null,
            "bottom": null,
            "display": null,
            "flex": null,
            "flex_flow": null,
            "grid_area": null,
            "grid_auto_columns": null,
            "grid_auto_flow": null,
            "grid_auto_rows": null,
            "grid_column": null,
            "grid_gap": null,
            "grid_row": null,
            "grid_template_areas": null,
            "grid_template_columns": null,
            "grid_template_rows": null,
            "height": null,
            "justify_content": null,
            "justify_items": null,
            "left": null,
            "margin": null,
            "max_height": null,
            "max_width": null,
            "min_height": null,
            "min_width": null,
            "object_fit": null,
            "object_position": null,
            "order": null,
            "overflow": null,
            "overflow_x": null,
            "overflow_y": null,
            "padding": null,
            "right": null,
            "top": null,
            "visibility": null,
            "width": null
          }
        },
        "fd23f10dd2944044b06434c40e5f044b": {
          "model_module": "@jupyter-widgets/controls",
          "model_name": "DescriptionStyleModel",
          "model_module_version": "1.5.0",
          "state": {
            "_model_module": "@jupyter-widgets/controls",
            "_model_module_version": "1.5.0",
            "_model_name": "DescriptionStyleModel",
            "_view_count": null,
            "_view_module": "@jupyter-widgets/base",
            "_view_module_version": "1.2.0",
            "_view_name": "StyleView",
            "description_width": ""
          }
        },
        "4dc7f07b51f143619ec38677faab61cf": {
          "model_module": "@jupyter-widgets/controls",
          "model_name": "HBoxModel",
          "model_module_version": "1.5.0",
          "state": {
            "_dom_classes": [],
            "_model_module": "@jupyter-widgets/controls",
            "_model_module_version": "1.5.0",
            "_model_name": "HBoxModel",
            "_view_count": null,
            "_view_module": "@jupyter-widgets/controls",
            "_view_module_version": "1.5.0",
            "_view_name": "HBoxView",
            "box_style": "",
            "children": [
              "IPY_MODEL_0e19ff3a3541416f9349fa1378720694",
              "IPY_MODEL_d2bcc7fd72a34c0e86e76ba9622589a8",
              "IPY_MODEL_99b63875f8f94823a27c2c56cf6eb681"
            ],
            "layout": "IPY_MODEL_05839abf0fb24fdfbc9080ee0a9dd153"
          }
        },
        "0e19ff3a3541416f9349fa1378720694": {
          "model_module": "@jupyter-widgets/controls",
          "model_name": "HTMLModel",
          "model_module_version": "1.5.0",
          "state": {
            "_dom_classes": [],
            "_model_module": "@jupyter-widgets/controls",
            "_model_module_version": "1.5.0",
            "_model_name": "HTMLModel",
            "_view_count": null,
            "_view_module": "@jupyter-widgets/controls",
            "_view_module_version": "1.5.0",
            "_view_name": "HTMLView",
            "description": "",
            "description_tooltip": null,
            "layout": "IPY_MODEL_4a7ec5e1c0f940d48086245a77c56185",
            "placeholder": "​",
            "style": "IPY_MODEL_e1b9640dbcba4e1099e0df7c70d3ea54",
            "value": "sentence_bert_config.json: 100%"
          }
        },
        "d2bcc7fd72a34c0e86e76ba9622589a8": {
          "model_module": "@jupyter-widgets/controls",
          "model_name": "FloatProgressModel",
          "model_module_version": "1.5.0",
          "state": {
            "_dom_classes": [],
            "_model_module": "@jupyter-widgets/controls",
            "_model_module_version": "1.5.0",
            "_model_name": "FloatProgressModel",
            "_view_count": null,
            "_view_module": "@jupyter-widgets/controls",
            "_view_module_version": "1.5.0",
            "_view_name": "ProgressView",
            "bar_style": "success",
            "description": "",
            "description_tooltip": null,
            "layout": "IPY_MODEL_2722bf8bb25a4d2badbefaef61482710",
            "max": 53,
            "min": 0,
            "orientation": "horizontal",
            "style": "IPY_MODEL_f159cdcecd02488d9a96c4a815bc2cbc",
            "value": 53
          }
        },
        "99b63875f8f94823a27c2c56cf6eb681": {
          "model_module": "@jupyter-widgets/controls",
          "model_name": "HTMLModel",
          "model_module_version": "1.5.0",
          "state": {
            "_dom_classes": [],
            "_model_module": "@jupyter-widgets/controls",
            "_model_module_version": "1.5.0",
            "_model_name": "HTMLModel",
            "_view_count": null,
            "_view_module": "@jupyter-widgets/controls",
            "_view_module_version": "1.5.0",
            "_view_name": "HTMLView",
            "description": "",
            "description_tooltip": null,
            "layout": "IPY_MODEL_6462db78c26b465f860ce99847f7d0e9",
            "placeholder": "​",
            "style": "IPY_MODEL_9475a1957f894e54a8c78bb1a3d4f304",
            "value": " 53.0/53.0 [00:00&lt;00:00, 2.83kB/s]"
          }
        },
        "05839abf0fb24fdfbc9080ee0a9dd153": {
          "model_module": "@jupyter-widgets/base",
          "model_name": "LayoutModel",
          "model_module_version": "1.2.0",
          "state": {
            "_model_module": "@jupyter-widgets/base",
            "_model_module_version": "1.2.0",
            "_model_name": "LayoutModel",
            "_view_count": null,
            "_view_module": "@jupyter-widgets/base",
            "_view_module_version": "1.2.0",
            "_view_name": "LayoutView",
            "align_content": null,
            "align_items": null,
            "align_self": null,
            "border": null,
            "bottom": null,
            "display": null,
            "flex": null,
            "flex_flow": null,
            "grid_area": null,
            "grid_auto_columns": null,
            "grid_auto_flow": null,
            "grid_auto_rows": null,
            "grid_column": null,
            "grid_gap": null,
            "grid_row": null,
            "grid_template_areas": null,
            "grid_template_columns": null,
            "grid_template_rows": null,
            "height": null,
            "justify_content": null,
            "justify_items": null,
            "left": null,
            "margin": null,
            "max_height": null,
            "max_width": null,
            "min_height": null,
            "min_width": null,
            "object_fit": null,
            "object_position": null,
            "order": null,
            "overflow": null,
            "overflow_x": null,
            "overflow_y": null,
            "padding": null,
            "right": null,
            "top": null,
            "visibility": null,
            "width": null
          }
        },
        "4a7ec5e1c0f940d48086245a77c56185": {
          "model_module": "@jupyter-widgets/base",
          "model_name": "LayoutModel",
          "model_module_version": "1.2.0",
          "state": {
            "_model_module": "@jupyter-widgets/base",
            "_model_module_version": "1.2.0",
            "_model_name": "LayoutModel",
            "_view_count": null,
            "_view_module": "@jupyter-widgets/base",
            "_view_module_version": "1.2.0",
            "_view_name": "LayoutView",
            "align_content": null,
            "align_items": null,
            "align_self": null,
            "border": null,
            "bottom": null,
            "display": null,
            "flex": null,
            "flex_flow": null,
            "grid_area": null,
            "grid_auto_columns": null,
            "grid_auto_flow": null,
            "grid_auto_rows": null,
            "grid_column": null,
            "grid_gap": null,
            "grid_row": null,
            "grid_template_areas": null,
            "grid_template_columns": null,
            "grid_template_rows": null,
            "height": null,
            "justify_content": null,
            "justify_items": null,
            "left": null,
            "margin": null,
            "max_height": null,
            "max_width": null,
            "min_height": null,
            "min_width": null,
            "object_fit": null,
            "object_position": null,
            "order": null,
            "overflow": null,
            "overflow_x": null,
            "overflow_y": null,
            "padding": null,
            "right": null,
            "top": null,
            "visibility": null,
            "width": null
          }
        },
        "e1b9640dbcba4e1099e0df7c70d3ea54": {
          "model_module": "@jupyter-widgets/controls",
          "model_name": "DescriptionStyleModel",
          "model_module_version": "1.5.0",
          "state": {
            "_model_module": "@jupyter-widgets/controls",
            "_model_module_version": "1.5.0",
            "_model_name": "DescriptionStyleModel",
            "_view_count": null,
            "_view_module": "@jupyter-widgets/base",
            "_view_module_version": "1.2.0",
            "_view_name": "StyleView",
            "description_width": ""
          }
        },
        "2722bf8bb25a4d2badbefaef61482710": {
          "model_module": "@jupyter-widgets/base",
          "model_name": "LayoutModel",
          "model_module_version": "1.2.0",
          "state": {
            "_model_module": "@jupyter-widgets/base",
            "_model_module_version": "1.2.0",
            "_model_name": "LayoutModel",
            "_view_count": null,
            "_view_module": "@jupyter-widgets/base",
            "_view_module_version": "1.2.0",
            "_view_name": "LayoutView",
            "align_content": null,
            "align_items": null,
            "align_self": null,
            "border": null,
            "bottom": null,
            "display": null,
            "flex": null,
            "flex_flow": null,
            "grid_area": null,
            "grid_auto_columns": null,
            "grid_auto_flow": null,
            "grid_auto_rows": null,
            "grid_column": null,
            "grid_gap": null,
            "grid_row": null,
            "grid_template_areas": null,
            "grid_template_columns": null,
            "grid_template_rows": null,
            "height": null,
            "justify_content": null,
            "justify_items": null,
            "left": null,
            "margin": null,
            "max_height": null,
            "max_width": null,
            "min_height": null,
            "min_width": null,
            "object_fit": null,
            "object_position": null,
            "order": null,
            "overflow": null,
            "overflow_x": null,
            "overflow_y": null,
            "padding": null,
            "right": null,
            "top": null,
            "visibility": null,
            "width": null
          }
        },
        "f159cdcecd02488d9a96c4a815bc2cbc": {
          "model_module": "@jupyter-widgets/controls",
          "model_name": "ProgressStyleModel",
          "model_module_version": "1.5.0",
          "state": {
            "_model_module": "@jupyter-widgets/controls",
            "_model_module_version": "1.5.0",
            "_model_name": "ProgressStyleModel",
            "_view_count": null,
            "_view_module": "@jupyter-widgets/base",
            "_view_module_version": "1.2.0",
            "_view_name": "StyleView",
            "bar_color": null,
            "description_width": ""
          }
        },
        "6462db78c26b465f860ce99847f7d0e9": {
          "model_module": "@jupyter-widgets/base",
          "model_name": "LayoutModel",
          "model_module_version": "1.2.0",
          "state": {
            "_model_module": "@jupyter-widgets/base",
            "_model_module_version": "1.2.0",
            "_model_name": "LayoutModel",
            "_view_count": null,
            "_view_module": "@jupyter-widgets/base",
            "_view_module_version": "1.2.0",
            "_view_name": "LayoutView",
            "align_content": null,
            "align_items": null,
            "align_self": null,
            "border": null,
            "bottom": null,
            "display": null,
            "flex": null,
            "flex_flow": null,
            "grid_area": null,
            "grid_auto_columns": null,
            "grid_auto_flow": null,
            "grid_auto_rows": null,
            "grid_column": null,
            "grid_gap": null,
            "grid_row": null,
            "grid_template_areas": null,
            "grid_template_columns": null,
            "grid_template_rows": null,
            "height": null,
            "justify_content": null,
            "justify_items": null,
            "left": null,
            "margin": null,
            "max_height": null,
            "max_width": null,
            "min_height": null,
            "min_width": null,
            "object_fit": null,
            "object_position": null,
            "order": null,
            "overflow": null,
            "overflow_x": null,
            "overflow_y": null,
            "padding": null,
            "right": null,
            "top": null,
            "visibility": null,
            "width": null
          }
        },
        "9475a1957f894e54a8c78bb1a3d4f304": {
          "model_module": "@jupyter-widgets/controls",
          "model_name": "DescriptionStyleModel",
          "model_module_version": "1.5.0",
          "state": {
            "_model_module": "@jupyter-widgets/controls",
            "_model_module_version": "1.5.0",
            "_model_name": "DescriptionStyleModel",
            "_view_count": null,
            "_view_module": "@jupyter-widgets/base",
            "_view_module_version": "1.2.0",
            "_view_name": "StyleView",
            "description_width": ""
          }
        },
        "469162ad0a03403fba74522737bc4e0c": {
          "model_module": "@jupyter-widgets/controls",
          "model_name": "HBoxModel",
          "model_module_version": "1.5.0",
          "state": {
            "_dom_classes": [],
            "_model_module": "@jupyter-widgets/controls",
            "_model_module_version": "1.5.0",
            "_model_name": "HBoxModel",
            "_view_count": null,
            "_view_module": "@jupyter-widgets/controls",
            "_view_module_version": "1.5.0",
            "_view_name": "HBoxView",
            "box_style": "",
            "children": [
              "IPY_MODEL_2bdae99bc7ba440c9b91ce9ce7b1ce46",
              "IPY_MODEL_6d50a3b19e15450788eb7ec64e6f1522",
              "IPY_MODEL_4a1e1586ffc04c63a9fb74d0930ed8a1"
            ],
            "layout": "IPY_MODEL_92b639fd985b4427bd5ba3c3171e3183"
          }
        },
        "2bdae99bc7ba440c9b91ce9ce7b1ce46": {
          "model_module": "@jupyter-widgets/controls",
          "model_name": "HTMLModel",
          "model_module_version": "1.5.0",
          "state": {
            "_dom_classes": [],
            "_model_module": "@jupyter-widgets/controls",
            "_model_module_version": "1.5.0",
            "_model_name": "HTMLModel",
            "_view_count": null,
            "_view_module": "@jupyter-widgets/controls",
            "_view_module_version": "1.5.0",
            "_view_name": "HTMLView",
            "description": "",
            "description_tooltip": null,
            "layout": "IPY_MODEL_f9d8a4b64148434991a011191dc55312",
            "placeholder": "​",
            "style": "IPY_MODEL_8d3ed7d4310948d99b3ff798baaa1472",
            "value": "config.json: 100%"
          }
        },
        "6d50a3b19e15450788eb7ec64e6f1522": {
          "model_module": "@jupyter-widgets/controls",
          "model_name": "FloatProgressModel",
          "model_module_version": "1.5.0",
          "state": {
            "_dom_classes": [],
            "_model_module": "@jupyter-widgets/controls",
            "_model_module_version": "1.5.0",
            "_model_name": "FloatProgressModel",
            "_view_count": null,
            "_view_module": "@jupyter-widgets/controls",
            "_view_module_version": "1.5.0",
            "_view_name": "ProgressView",
            "bar_style": "success",
            "description": "",
            "description_tooltip": null,
            "layout": "IPY_MODEL_518fe9732c8f440eb9c5c9718bc7aaef",
            "max": 723,
            "min": 0,
            "orientation": "horizontal",
            "style": "IPY_MODEL_fcb5f711ff644a0d97515831978315fc",
            "value": 723
          }
        },
        "4a1e1586ffc04c63a9fb74d0930ed8a1": {
          "model_module": "@jupyter-widgets/controls",
          "model_name": "HTMLModel",
          "model_module_version": "1.5.0",
          "state": {
            "_dom_classes": [],
            "_model_module": "@jupyter-widgets/controls",
            "_model_module_version": "1.5.0",
            "_model_name": "HTMLModel",
            "_view_count": null,
            "_view_module": "@jupyter-widgets/controls",
            "_view_module_version": "1.5.0",
            "_view_name": "HTMLView",
            "description": "",
            "description_tooltip": null,
            "layout": "IPY_MODEL_72b7dfef51954019977c2d88793f5625",
            "placeholder": "​",
            "style": "IPY_MODEL_ba5080f4da9a4ba9b43372db2333c6d3",
            "value": " 723/723 [00:00&lt;00:00, 57.7kB/s]"
          }
        },
        "92b639fd985b4427bd5ba3c3171e3183": {
          "model_module": "@jupyter-widgets/base",
          "model_name": "LayoutModel",
          "model_module_version": "1.2.0",
          "state": {
            "_model_module": "@jupyter-widgets/base",
            "_model_module_version": "1.2.0",
            "_model_name": "LayoutModel",
            "_view_count": null,
            "_view_module": "@jupyter-widgets/base",
            "_view_module_version": "1.2.0",
            "_view_name": "LayoutView",
            "align_content": null,
            "align_items": null,
            "align_self": null,
            "border": null,
            "bottom": null,
            "display": null,
            "flex": null,
            "flex_flow": null,
            "grid_area": null,
            "grid_auto_columns": null,
            "grid_auto_flow": null,
            "grid_auto_rows": null,
            "grid_column": null,
            "grid_gap": null,
            "grid_row": null,
            "grid_template_areas": null,
            "grid_template_columns": null,
            "grid_template_rows": null,
            "height": null,
            "justify_content": null,
            "justify_items": null,
            "left": null,
            "margin": null,
            "max_height": null,
            "max_width": null,
            "min_height": null,
            "min_width": null,
            "object_fit": null,
            "object_position": null,
            "order": null,
            "overflow": null,
            "overflow_x": null,
            "overflow_y": null,
            "padding": null,
            "right": null,
            "top": null,
            "visibility": null,
            "width": null
          }
        },
        "f9d8a4b64148434991a011191dc55312": {
          "model_module": "@jupyter-widgets/base",
          "model_name": "LayoutModel",
          "model_module_version": "1.2.0",
          "state": {
            "_model_module": "@jupyter-widgets/base",
            "_model_module_version": "1.2.0",
            "_model_name": "LayoutModel",
            "_view_count": null,
            "_view_module": "@jupyter-widgets/base",
            "_view_module_version": "1.2.0",
            "_view_name": "LayoutView",
            "align_content": null,
            "align_items": null,
            "align_self": null,
            "border": null,
            "bottom": null,
            "display": null,
            "flex": null,
            "flex_flow": null,
            "grid_area": null,
            "grid_auto_columns": null,
            "grid_auto_flow": null,
            "grid_auto_rows": null,
            "grid_column": null,
            "grid_gap": null,
            "grid_row": null,
            "grid_template_areas": null,
            "grid_template_columns": null,
            "grid_template_rows": null,
            "height": null,
            "justify_content": null,
            "justify_items": null,
            "left": null,
            "margin": null,
            "max_height": null,
            "max_width": null,
            "min_height": null,
            "min_width": null,
            "object_fit": null,
            "object_position": null,
            "order": null,
            "overflow": null,
            "overflow_x": null,
            "overflow_y": null,
            "padding": null,
            "right": null,
            "top": null,
            "visibility": null,
            "width": null
          }
        },
        "8d3ed7d4310948d99b3ff798baaa1472": {
          "model_module": "@jupyter-widgets/controls",
          "model_name": "DescriptionStyleModel",
          "model_module_version": "1.5.0",
          "state": {
            "_model_module": "@jupyter-widgets/controls",
            "_model_module_version": "1.5.0",
            "_model_name": "DescriptionStyleModel",
            "_view_count": null,
            "_view_module": "@jupyter-widgets/base",
            "_view_module_version": "1.2.0",
            "_view_name": "StyleView",
            "description_width": ""
          }
        },
        "518fe9732c8f440eb9c5c9718bc7aaef": {
          "model_module": "@jupyter-widgets/base",
          "model_name": "LayoutModel",
          "model_module_version": "1.2.0",
          "state": {
            "_model_module": "@jupyter-widgets/base",
            "_model_module_version": "1.2.0",
            "_model_name": "LayoutModel",
            "_view_count": null,
            "_view_module": "@jupyter-widgets/base",
            "_view_module_version": "1.2.0",
            "_view_name": "LayoutView",
            "align_content": null,
            "align_items": null,
            "align_self": null,
            "border": null,
            "bottom": null,
            "display": null,
            "flex": null,
            "flex_flow": null,
            "grid_area": null,
            "grid_auto_columns": null,
            "grid_auto_flow": null,
            "grid_auto_rows": null,
            "grid_column": null,
            "grid_gap": null,
            "grid_row": null,
            "grid_template_areas": null,
            "grid_template_columns": null,
            "grid_template_rows": null,
            "height": null,
            "justify_content": null,
            "justify_items": null,
            "left": null,
            "margin": null,
            "max_height": null,
            "max_width": null,
            "min_height": null,
            "min_width": null,
            "object_fit": null,
            "object_position": null,
            "order": null,
            "overflow": null,
            "overflow_x": null,
            "overflow_y": null,
            "padding": null,
            "right": null,
            "top": null,
            "visibility": null,
            "width": null
          }
        },
        "fcb5f711ff644a0d97515831978315fc": {
          "model_module": "@jupyter-widgets/controls",
          "model_name": "ProgressStyleModel",
          "model_module_version": "1.5.0",
          "state": {
            "_model_module": "@jupyter-widgets/controls",
            "_model_module_version": "1.5.0",
            "_model_name": "ProgressStyleModel",
            "_view_count": null,
            "_view_module": "@jupyter-widgets/base",
            "_view_module_version": "1.2.0",
            "_view_name": "StyleView",
            "bar_color": null,
            "description_width": ""
          }
        },
        "72b7dfef51954019977c2d88793f5625": {
          "model_module": "@jupyter-widgets/base",
          "model_name": "LayoutModel",
          "model_module_version": "1.2.0",
          "state": {
            "_model_module": "@jupyter-widgets/base",
            "_model_module_version": "1.2.0",
            "_model_name": "LayoutModel",
            "_view_count": null,
            "_view_module": "@jupyter-widgets/base",
            "_view_module_version": "1.2.0",
            "_view_name": "LayoutView",
            "align_content": null,
            "align_items": null,
            "align_self": null,
            "border": null,
            "bottom": null,
            "display": null,
            "flex": null,
            "flex_flow": null,
            "grid_area": null,
            "grid_auto_columns": null,
            "grid_auto_flow": null,
            "grid_auto_rows": null,
            "grid_column": null,
            "grid_gap": null,
            "grid_row": null,
            "grid_template_areas": null,
            "grid_template_columns": null,
            "grid_template_rows": null,
            "height": null,
            "justify_content": null,
            "justify_items": null,
            "left": null,
            "margin": null,
            "max_height": null,
            "max_width": null,
            "min_height": null,
            "min_width": null,
            "object_fit": null,
            "object_position": null,
            "order": null,
            "overflow": null,
            "overflow_x": null,
            "overflow_y": null,
            "padding": null,
            "right": null,
            "top": null,
            "visibility": null,
            "width": null
          }
        },
        "ba5080f4da9a4ba9b43372db2333c6d3": {
          "model_module": "@jupyter-widgets/controls",
          "model_name": "DescriptionStyleModel",
          "model_module_version": "1.5.0",
          "state": {
            "_model_module": "@jupyter-widgets/controls",
            "_model_module_version": "1.5.0",
            "_model_name": "DescriptionStyleModel",
            "_view_count": null,
            "_view_module": "@jupyter-widgets/base",
            "_view_module_version": "1.2.0",
            "_view_name": "StyleView",
            "description_width": ""
          }
        },
        "a841dee344c84da4893224e73e1ea8ce": {
          "model_module": "@jupyter-widgets/controls",
          "model_name": "HBoxModel",
          "model_module_version": "1.5.0",
          "state": {
            "_dom_classes": [],
            "_model_module": "@jupyter-widgets/controls",
            "_model_module_version": "1.5.0",
            "_model_name": "HBoxModel",
            "_view_count": null,
            "_view_module": "@jupyter-widgets/controls",
            "_view_module_version": "1.5.0",
            "_view_name": "HBoxView",
            "box_style": "",
            "children": [
              "IPY_MODEL_03d7f62691544c439e01ec93230323ae",
              "IPY_MODEL_232a1db1ed7f41adbbae0197b5e8485e",
              "IPY_MODEL_1dafbe5c891a45a386d8fa2ff7739cfd"
            ],
            "layout": "IPY_MODEL_f12f9bf3ff3e47b8a7268f513d938eb1"
          }
        },
        "03d7f62691544c439e01ec93230323ae": {
          "model_module": "@jupyter-widgets/controls",
          "model_name": "HTMLModel",
          "model_module_version": "1.5.0",
          "state": {
            "_dom_classes": [],
            "_model_module": "@jupyter-widgets/controls",
            "_model_module_version": "1.5.0",
            "_model_name": "HTMLModel",
            "_view_count": null,
            "_view_module": "@jupyter-widgets/controls",
            "_view_module_version": "1.5.0",
            "_view_name": "HTMLView",
            "description": "",
            "description_tooltip": null,
            "layout": "IPY_MODEL_bd6b9084054946d7b58c2b905b38b831",
            "placeholder": "​",
            "style": "IPY_MODEL_902e43ceb7a54b1ea05b940159c893f0",
            "value": "model.safetensors: 100%"
          }
        },
        "232a1db1ed7f41adbbae0197b5e8485e": {
          "model_module": "@jupyter-widgets/controls",
          "model_name": "FloatProgressModel",
          "model_module_version": "1.5.0",
          "state": {
            "_dom_classes": [],
            "_model_module": "@jupyter-widgets/controls",
            "_model_module_version": "1.5.0",
            "_model_name": "FloatProgressModel",
            "_view_count": null,
            "_view_module": "@jupyter-widgets/controls",
            "_view_module_version": "1.5.0",
            "_view_name": "ProgressView",
            "bar_style": "success",
            "description": "",
            "description_tooltip": null,
            "layout": "IPY_MODEL_cb38ef2574694494b295b20aa3444d7c",
            "max": 1112201288,
            "min": 0,
            "orientation": "horizontal",
            "style": "IPY_MODEL_3e47d3eb1bea45faa7e57f6db334c4d4",
            "value": 1112201288
          }
        },
        "1dafbe5c891a45a386d8fa2ff7739cfd": {
          "model_module": "@jupyter-widgets/controls",
          "model_name": "HTMLModel",
          "model_module_version": "1.5.0",
          "state": {
            "_dom_classes": [],
            "_model_module": "@jupyter-widgets/controls",
            "_model_module_version": "1.5.0",
            "_model_name": "HTMLModel",
            "_view_count": null,
            "_view_module": "@jupyter-widgets/controls",
            "_view_module_version": "1.5.0",
            "_view_name": "HTMLView",
            "description": "",
            "description_tooltip": null,
            "layout": "IPY_MODEL_b34fbd7cb42846f6a84cbdc195b19470",
            "placeholder": "​",
            "style": "IPY_MODEL_e0f394c226c546e1bf721159ba3625ad",
            "value": " 1.11G/1.11G [00:04&lt;00:00, 246MB/s]"
          }
        },
        "f12f9bf3ff3e47b8a7268f513d938eb1": {
          "model_module": "@jupyter-widgets/base",
          "model_name": "LayoutModel",
          "model_module_version": "1.2.0",
          "state": {
            "_model_module": "@jupyter-widgets/base",
            "_model_module_version": "1.2.0",
            "_model_name": "LayoutModel",
            "_view_count": null,
            "_view_module": "@jupyter-widgets/base",
            "_view_module_version": "1.2.0",
            "_view_name": "LayoutView",
            "align_content": null,
            "align_items": null,
            "align_self": null,
            "border": null,
            "bottom": null,
            "display": null,
            "flex": null,
            "flex_flow": null,
            "grid_area": null,
            "grid_auto_columns": null,
            "grid_auto_flow": null,
            "grid_auto_rows": null,
            "grid_column": null,
            "grid_gap": null,
            "grid_row": null,
            "grid_template_areas": null,
            "grid_template_columns": null,
            "grid_template_rows": null,
            "height": null,
            "justify_content": null,
            "justify_items": null,
            "left": null,
            "margin": null,
            "max_height": null,
            "max_width": null,
            "min_height": null,
            "min_width": null,
            "object_fit": null,
            "object_position": null,
            "order": null,
            "overflow": null,
            "overflow_x": null,
            "overflow_y": null,
            "padding": null,
            "right": null,
            "top": null,
            "visibility": null,
            "width": null
          }
        },
        "bd6b9084054946d7b58c2b905b38b831": {
          "model_module": "@jupyter-widgets/base",
          "model_name": "LayoutModel",
          "model_module_version": "1.2.0",
          "state": {
            "_model_module": "@jupyter-widgets/base",
            "_model_module_version": "1.2.0",
            "_model_name": "LayoutModel",
            "_view_count": null,
            "_view_module": "@jupyter-widgets/base",
            "_view_module_version": "1.2.0",
            "_view_name": "LayoutView",
            "align_content": null,
            "align_items": null,
            "align_self": null,
            "border": null,
            "bottom": null,
            "display": null,
            "flex": null,
            "flex_flow": null,
            "grid_area": null,
            "grid_auto_columns": null,
            "grid_auto_flow": null,
            "grid_auto_rows": null,
            "grid_column": null,
            "grid_gap": null,
            "grid_row": null,
            "grid_template_areas": null,
            "grid_template_columns": null,
            "grid_template_rows": null,
            "height": null,
            "justify_content": null,
            "justify_items": null,
            "left": null,
            "margin": null,
            "max_height": null,
            "max_width": null,
            "min_height": null,
            "min_width": null,
            "object_fit": null,
            "object_position": null,
            "order": null,
            "overflow": null,
            "overflow_x": null,
            "overflow_y": null,
            "padding": null,
            "right": null,
            "top": null,
            "visibility": null,
            "width": null
          }
        },
        "902e43ceb7a54b1ea05b940159c893f0": {
          "model_module": "@jupyter-widgets/controls",
          "model_name": "DescriptionStyleModel",
          "model_module_version": "1.5.0",
          "state": {
            "_model_module": "@jupyter-widgets/controls",
            "_model_module_version": "1.5.0",
            "_model_name": "DescriptionStyleModel",
            "_view_count": null,
            "_view_module": "@jupyter-widgets/base",
            "_view_module_version": "1.2.0",
            "_view_name": "StyleView",
            "description_width": ""
          }
        },
        "cb38ef2574694494b295b20aa3444d7c": {
          "model_module": "@jupyter-widgets/base",
          "model_name": "LayoutModel",
          "model_module_version": "1.2.0",
          "state": {
            "_model_module": "@jupyter-widgets/base",
            "_model_module_version": "1.2.0",
            "_model_name": "LayoutModel",
            "_view_count": null,
            "_view_module": "@jupyter-widgets/base",
            "_view_module_version": "1.2.0",
            "_view_name": "LayoutView",
            "align_content": null,
            "align_items": null,
            "align_self": null,
            "border": null,
            "bottom": null,
            "display": null,
            "flex": null,
            "flex_flow": null,
            "grid_area": null,
            "grid_auto_columns": null,
            "grid_auto_flow": null,
            "grid_auto_rows": null,
            "grid_column": null,
            "grid_gap": null,
            "grid_row": null,
            "grid_template_areas": null,
            "grid_template_columns": null,
            "grid_template_rows": null,
            "height": null,
            "justify_content": null,
            "justify_items": null,
            "left": null,
            "margin": null,
            "max_height": null,
            "max_width": null,
            "min_height": null,
            "min_width": null,
            "object_fit": null,
            "object_position": null,
            "order": null,
            "overflow": null,
            "overflow_x": null,
            "overflow_y": null,
            "padding": null,
            "right": null,
            "top": null,
            "visibility": null,
            "width": null
          }
        },
        "3e47d3eb1bea45faa7e57f6db334c4d4": {
          "model_module": "@jupyter-widgets/controls",
          "model_name": "ProgressStyleModel",
          "model_module_version": "1.5.0",
          "state": {
            "_model_module": "@jupyter-widgets/controls",
            "_model_module_version": "1.5.0",
            "_model_name": "ProgressStyleModel",
            "_view_count": null,
            "_view_module": "@jupyter-widgets/base",
            "_view_module_version": "1.2.0",
            "_view_name": "StyleView",
            "bar_color": null,
            "description_width": ""
          }
        },
        "b34fbd7cb42846f6a84cbdc195b19470": {
          "model_module": "@jupyter-widgets/base",
          "model_name": "LayoutModel",
          "model_module_version": "1.2.0",
          "state": {
            "_model_module": "@jupyter-widgets/base",
            "_model_module_version": "1.2.0",
            "_model_name": "LayoutModel",
            "_view_count": null,
            "_view_module": "@jupyter-widgets/base",
            "_view_module_version": "1.2.0",
            "_view_name": "LayoutView",
            "align_content": null,
            "align_items": null,
            "align_self": null,
            "border": null,
            "bottom": null,
            "display": null,
            "flex": null,
            "flex_flow": null,
            "grid_area": null,
            "grid_auto_columns": null,
            "grid_auto_flow": null,
            "grid_auto_rows": null,
            "grid_column": null,
            "grid_gap": null,
            "grid_row": null,
            "grid_template_areas": null,
            "grid_template_columns": null,
            "grid_template_rows": null,
            "height": null,
            "justify_content": null,
            "justify_items": null,
            "left": null,
            "margin": null,
            "max_height": null,
            "max_width": null,
            "min_height": null,
            "min_width": null,
            "object_fit": null,
            "object_position": null,
            "order": null,
            "overflow": null,
            "overflow_x": null,
            "overflow_y": null,
            "padding": null,
            "right": null,
            "top": null,
            "visibility": null,
            "width": null
          }
        },
        "e0f394c226c546e1bf721159ba3625ad": {
          "model_module": "@jupyter-widgets/controls",
          "model_name": "DescriptionStyleModel",
          "model_module_version": "1.5.0",
          "state": {
            "_model_module": "@jupyter-widgets/controls",
            "_model_module_version": "1.5.0",
            "_model_name": "DescriptionStyleModel",
            "_view_count": null,
            "_view_module": "@jupyter-widgets/base",
            "_view_module_version": "1.2.0",
            "_view_name": "StyleView",
            "description_width": ""
          }
        },
        "d177cf46d0cf466c86934e2d152a4d13": {
          "model_module": "@jupyter-widgets/controls",
          "model_name": "HBoxModel",
          "model_module_version": "1.5.0",
          "state": {
            "_dom_classes": [],
            "_model_module": "@jupyter-widgets/controls",
            "_model_module_version": "1.5.0",
            "_model_name": "HBoxModel",
            "_view_count": null,
            "_view_module": "@jupyter-widgets/controls",
            "_view_module_version": "1.5.0",
            "_view_name": "HBoxView",
            "box_style": "",
            "children": [
              "IPY_MODEL_2b49887ab83b46e0acbe3c307e5a31b1",
              "IPY_MODEL_3ad563082b8141318a6aa79892a7c001",
              "IPY_MODEL_c8548580740e4d74b43629f3ba34ab79"
            ],
            "layout": "IPY_MODEL_434932546a07466bb26cb52c49ff5d3b"
          }
        },
        "2b49887ab83b46e0acbe3c307e5a31b1": {
          "model_module": "@jupyter-widgets/controls",
          "model_name": "HTMLModel",
          "model_module_version": "1.5.0",
          "state": {
            "_dom_classes": [],
            "_model_module": "@jupyter-widgets/controls",
            "_model_module_version": "1.5.0",
            "_model_name": "HTMLModel",
            "_view_count": null,
            "_view_module": "@jupyter-widgets/controls",
            "_view_module_version": "1.5.0",
            "_view_name": "HTMLView",
            "description": "",
            "description_tooltip": null,
            "layout": "IPY_MODEL_424c79c1a0ae42b3abd24ed751531dd5",
            "placeholder": "​",
            "style": "IPY_MODEL_5dd949b1fd954a399ff489b28a6e2524",
            "value": "tokenizer_config.json: 100%"
          }
        },
        "3ad563082b8141318a6aa79892a7c001": {
          "model_module": "@jupyter-widgets/controls",
          "model_name": "FloatProgressModel",
          "model_module_version": "1.5.0",
          "state": {
            "_dom_classes": [],
            "_model_module": "@jupyter-widgets/controls",
            "_model_module_version": "1.5.0",
            "_model_name": "FloatProgressModel",
            "_view_count": null,
            "_view_module": "@jupyter-widgets/controls",
            "_view_module_version": "1.5.0",
            "_view_name": "ProgressView",
            "bar_style": "success",
            "description": "",
            "description_tooltip": null,
            "layout": "IPY_MODEL_6dadb275b20d4f13b7ca3724d6a03a65",
            "max": 402,
            "min": 0,
            "orientation": "horizontal",
            "style": "IPY_MODEL_49d11e58a738481b8b8b9a3cc2ff51a6",
            "value": 402
          }
        },
        "c8548580740e4d74b43629f3ba34ab79": {
          "model_module": "@jupyter-widgets/controls",
          "model_name": "HTMLModel",
          "model_module_version": "1.5.0",
          "state": {
            "_dom_classes": [],
            "_model_module": "@jupyter-widgets/controls",
            "_model_module_version": "1.5.0",
            "_model_name": "HTMLModel",
            "_view_count": null,
            "_view_module": "@jupyter-widgets/controls",
            "_view_module_version": "1.5.0",
            "_view_name": "HTMLView",
            "description": "",
            "description_tooltip": null,
            "layout": "IPY_MODEL_88e34ac0344b4750a2c953aaf1e0db0c",
            "placeholder": "​",
            "style": "IPY_MODEL_d7599d5d1134477c83629f0560b2db5d",
            "value": " 402/402 [00:00&lt;00:00, 18.9kB/s]"
          }
        },
        "434932546a07466bb26cb52c49ff5d3b": {
          "model_module": "@jupyter-widgets/base",
          "model_name": "LayoutModel",
          "model_module_version": "1.2.0",
          "state": {
            "_model_module": "@jupyter-widgets/base",
            "_model_module_version": "1.2.0",
            "_model_name": "LayoutModel",
            "_view_count": null,
            "_view_module": "@jupyter-widgets/base",
            "_view_module_version": "1.2.0",
            "_view_name": "LayoutView",
            "align_content": null,
            "align_items": null,
            "align_self": null,
            "border": null,
            "bottom": null,
            "display": null,
            "flex": null,
            "flex_flow": null,
            "grid_area": null,
            "grid_auto_columns": null,
            "grid_auto_flow": null,
            "grid_auto_rows": null,
            "grid_column": null,
            "grid_gap": null,
            "grid_row": null,
            "grid_template_areas": null,
            "grid_template_columns": null,
            "grid_template_rows": null,
            "height": null,
            "justify_content": null,
            "justify_items": null,
            "left": null,
            "margin": null,
            "max_height": null,
            "max_width": null,
            "min_height": null,
            "min_width": null,
            "object_fit": null,
            "object_position": null,
            "order": null,
            "overflow": null,
            "overflow_x": null,
            "overflow_y": null,
            "padding": null,
            "right": null,
            "top": null,
            "visibility": null,
            "width": null
          }
        },
        "424c79c1a0ae42b3abd24ed751531dd5": {
          "model_module": "@jupyter-widgets/base",
          "model_name": "LayoutModel",
          "model_module_version": "1.2.0",
          "state": {
            "_model_module": "@jupyter-widgets/base",
            "_model_module_version": "1.2.0",
            "_model_name": "LayoutModel",
            "_view_count": null,
            "_view_module": "@jupyter-widgets/base",
            "_view_module_version": "1.2.0",
            "_view_name": "LayoutView",
            "align_content": null,
            "align_items": null,
            "align_self": null,
            "border": null,
            "bottom": null,
            "display": null,
            "flex": null,
            "flex_flow": null,
            "grid_area": null,
            "grid_auto_columns": null,
            "grid_auto_flow": null,
            "grid_auto_rows": null,
            "grid_column": null,
            "grid_gap": null,
            "grid_row": null,
            "grid_template_areas": null,
            "grid_template_columns": null,
            "grid_template_rows": null,
            "height": null,
            "justify_content": null,
            "justify_items": null,
            "left": null,
            "margin": null,
            "max_height": null,
            "max_width": null,
            "min_height": null,
            "min_width": null,
            "object_fit": null,
            "object_position": null,
            "order": null,
            "overflow": null,
            "overflow_x": null,
            "overflow_y": null,
            "padding": null,
            "right": null,
            "top": null,
            "visibility": null,
            "width": null
          }
        },
        "5dd949b1fd954a399ff489b28a6e2524": {
          "model_module": "@jupyter-widgets/controls",
          "model_name": "DescriptionStyleModel",
          "model_module_version": "1.5.0",
          "state": {
            "_model_module": "@jupyter-widgets/controls",
            "_model_module_version": "1.5.0",
            "_model_name": "DescriptionStyleModel",
            "_view_count": null,
            "_view_module": "@jupyter-widgets/base",
            "_view_module_version": "1.2.0",
            "_view_name": "StyleView",
            "description_width": ""
          }
        },
        "6dadb275b20d4f13b7ca3724d6a03a65": {
          "model_module": "@jupyter-widgets/base",
          "model_name": "LayoutModel",
          "model_module_version": "1.2.0",
          "state": {
            "_model_module": "@jupyter-widgets/base",
            "_model_module_version": "1.2.0",
            "_model_name": "LayoutModel",
            "_view_count": null,
            "_view_module": "@jupyter-widgets/base",
            "_view_module_version": "1.2.0",
            "_view_name": "LayoutView",
            "align_content": null,
            "align_items": null,
            "align_self": null,
            "border": null,
            "bottom": null,
            "display": null,
            "flex": null,
            "flex_flow": null,
            "grid_area": null,
            "grid_auto_columns": null,
            "grid_auto_flow": null,
            "grid_auto_rows": null,
            "grid_column": null,
            "grid_gap": null,
            "grid_row": null,
            "grid_template_areas": null,
            "grid_template_columns": null,
            "grid_template_rows": null,
            "height": null,
            "justify_content": null,
            "justify_items": null,
            "left": null,
            "margin": null,
            "max_height": null,
            "max_width": null,
            "min_height": null,
            "min_width": null,
            "object_fit": null,
            "object_position": null,
            "order": null,
            "overflow": null,
            "overflow_x": null,
            "overflow_y": null,
            "padding": null,
            "right": null,
            "top": null,
            "visibility": null,
            "width": null
          }
        },
        "49d11e58a738481b8b8b9a3cc2ff51a6": {
          "model_module": "@jupyter-widgets/controls",
          "model_name": "ProgressStyleModel",
          "model_module_version": "1.5.0",
          "state": {
            "_model_module": "@jupyter-widgets/controls",
            "_model_module_version": "1.5.0",
            "_model_name": "ProgressStyleModel",
            "_view_count": null,
            "_view_module": "@jupyter-widgets/base",
            "_view_module_version": "1.2.0",
            "_view_name": "StyleView",
            "bar_color": null,
            "description_width": ""
          }
        },
        "88e34ac0344b4750a2c953aaf1e0db0c": {
          "model_module": "@jupyter-widgets/base",
          "model_name": "LayoutModel",
          "model_module_version": "1.2.0",
          "state": {
            "_model_module": "@jupyter-widgets/base",
            "_model_module_version": "1.2.0",
            "_model_name": "LayoutModel",
            "_view_count": null,
            "_view_module": "@jupyter-widgets/base",
            "_view_module_version": "1.2.0",
            "_view_name": "LayoutView",
            "align_content": null,
            "align_items": null,
            "align_self": null,
            "border": null,
            "bottom": null,
            "display": null,
            "flex": null,
            "flex_flow": null,
            "grid_area": null,
            "grid_auto_columns": null,
            "grid_auto_flow": null,
            "grid_auto_rows": null,
            "grid_column": null,
            "grid_gap": null,
            "grid_row": null,
            "grid_template_areas": null,
            "grid_template_columns": null,
            "grid_template_rows": null,
            "height": null,
            "justify_content": null,
            "justify_items": null,
            "left": null,
            "margin": null,
            "max_height": null,
            "max_width": null,
            "min_height": null,
            "min_width": null,
            "object_fit": null,
            "object_position": null,
            "order": null,
            "overflow": null,
            "overflow_x": null,
            "overflow_y": null,
            "padding": null,
            "right": null,
            "top": null,
            "visibility": null,
            "width": null
          }
        },
        "d7599d5d1134477c83629f0560b2db5d": {
          "model_module": "@jupyter-widgets/controls",
          "model_name": "DescriptionStyleModel",
          "model_module_version": "1.5.0",
          "state": {
            "_model_module": "@jupyter-widgets/controls",
            "_model_module_version": "1.5.0",
            "_model_name": "DescriptionStyleModel",
            "_view_count": null,
            "_view_module": "@jupyter-widgets/base",
            "_view_module_version": "1.2.0",
            "_view_name": "StyleView",
            "description_width": ""
          }
        },
        "6b8d7074e0284e378655af00cda20063": {
          "model_module": "@jupyter-widgets/controls",
          "model_name": "HBoxModel",
          "model_module_version": "1.5.0",
          "state": {
            "_dom_classes": [],
            "_model_module": "@jupyter-widgets/controls",
            "_model_module_version": "1.5.0",
            "_model_name": "HBoxModel",
            "_view_count": null,
            "_view_module": "@jupyter-widgets/controls",
            "_view_module_version": "1.5.0",
            "_view_name": "HBoxView",
            "box_style": "",
            "children": [
              "IPY_MODEL_82675d5405e14a2fb2305e95bdbbaf1d",
              "IPY_MODEL_592c756ffa244fbb9f27890aff523a4c",
              "IPY_MODEL_a19114b9e7744bcfa58f7dd495b59d4c"
            ],
            "layout": "IPY_MODEL_560a882fd4234d59808065f1a0028201"
          }
        },
        "82675d5405e14a2fb2305e95bdbbaf1d": {
          "model_module": "@jupyter-widgets/controls",
          "model_name": "HTMLModel",
          "model_module_version": "1.5.0",
          "state": {
            "_dom_classes": [],
            "_model_module": "@jupyter-widgets/controls",
            "_model_module_version": "1.5.0",
            "_model_name": "HTMLModel",
            "_view_count": null,
            "_view_module": "@jupyter-widgets/controls",
            "_view_module_version": "1.5.0",
            "_view_name": "HTMLView",
            "description": "",
            "description_tooltip": null,
            "layout": "IPY_MODEL_5b28a2d4b8d74f28bc3c636980498b42",
            "placeholder": "​",
            "style": "IPY_MODEL_ad77d3b026ef4597b58481269e428060",
            "value": "sentencepiece.bpe.model: 100%"
          }
        },
        "592c756ffa244fbb9f27890aff523a4c": {
          "model_module": "@jupyter-widgets/controls",
          "model_name": "FloatProgressModel",
          "model_module_version": "1.5.0",
          "state": {
            "_dom_classes": [],
            "_model_module": "@jupyter-widgets/controls",
            "_model_module_version": "1.5.0",
            "_model_name": "FloatProgressModel",
            "_view_count": null,
            "_view_module": "@jupyter-widgets/controls",
            "_view_module_version": "1.5.0",
            "_view_name": "ProgressView",
            "bar_style": "success",
            "description": "",
            "description_tooltip": null,
            "layout": "IPY_MODEL_e700ccdf4b084d33885afe4f96cdfc01",
            "max": 5069051,
            "min": 0,
            "orientation": "horizontal",
            "style": "IPY_MODEL_44dbe1310b864e28bcd388900c1451ba",
            "value": 5069051
          }
        },
        "a19114b9e7744bcfa58f7dd495b59d4c": {
          "model_module": "@jupyter-widgets/controls",
          "model_name": "HTMLModel",
          "model_module_version": "1.5.0",
          "state": {
            "_dom_classes": [],
            "_model_module": "@jupyter-widgets/controls",
            "_model_module_version": "1.5.0",
            "_model_name": "HTMLModel",
            "_view_count": null,
            "_view_module": "@jupyter-widgets/controls",
            "_view_module_version": "1.5.0",
            "_view_name": "HTMLView",
            "description": "",
            "description_tooltip": null,
            "layout": "IPY_MODEL_e22feb686fd144a8af8ced2200a9833b",
            "placeholder": "​",
            "style": "IPY_MODEL_d8f472a7a6114727b6fdacfd93e5a29c",
            "value": " 5.07M/5.07M [00:00&lt;00:00, 122MB/s]"
          }
        },
        "560a882fd4234d59808065f1a0028201": {
          "model_module": "@jupyter-widgets/base",
          "model_name": "LayoutModel",
          "model_module_version": "1.2.0",
          "state": {
            "_model_module": "@jupyter-widgets/base",
            "_model_module_version": "1.2.0",
            "_model_name": "LayoutModel",
            "_view_count": null,
            "_view_module": "@jupyter-widgets/base",
            "_view_module_version": "1.2.0",
            "_view_name": "LayoutView",
            "align_content": null,
            "align_items": null,
            "align_self": null,
            "border": null,
            "bottom": null,
            "display": null,
            "flex": null,
            "flex_flow": null,
            "grid_area": null,
            "grid_auto_columns": null,
            "grid_auto_flow": null,
            "grid_auto_rows": null,
            "grid_column": null,
            "grid_gap": null,
            "grid_row": null,
            "grid_template_areas": null,
            "grid_template_columns": null,
            "grid_template_rows": null,
            "height": null,
            "justify_content": null,
            "justify_items": null,
            "left": null,
            "margin": null,
            "max_height": null,
            "max_width": null,
            "min_height": null,
            "min_width": null,
            "object_fit": null,
            "object_position": null,
            "order": null,
            "overflow": null,
            "overflow_x": null,
            "overflow_y": null,
            "padding": null,
            "right": null,
            "top": null,
            "visibility": null,
            "width": null
          }
        },
        "5b28a2d4b8d74f28bc3c636980498b42": {
          "model_module": "@jupyter-widgets/base",
          "model_name": "LayoutModel",
          "model_module_version": "1.2.0",
          "state": {
            "_model_module": "@jupyter-widgets/base",
            "_model_module_version": "1.2.0",
            "_model_name": "LayoutModel",
            "_view_count": null,
            "_view_module": "@jupyter-widgets/base",
            "_view_module_version": "1.2.0",
            "_view_name": "LayoutView",
            "align_content": null,
            "align_items": null,
            "align_self": null,
            "border": null,
            "bottom": null,
            "display": null,
            "flex": null,
            "flex_flow": null,
            "grid_area": null,
            "grid_auto_columns": null,
            "grid_auto_flow": null,
            "grid_auto_rows": null,
            "grid_column": null,
            "grid_gap": null,
            "grid_row": null,
            "grid_template_areas": null,
            "grid_template_columns": null,
            "grid_template_rows": null,
            "height": null,
            "justify_content": null,
            "justify_items": null,
            "left": null,
            "margin": null,
            "max_height": null,
            "max_width": null,
            "min_height": null,
            "min_width": null,
            "object_fit": null,
            "object_position": null,
            "order": null,
            "overflow": null,
            "overflow_x": null,
            "overflow_y": null,
            "padding": null,
            "right": null,
            "top": null,
            "visibility": null,
            "width": null
          }
        },
        "ad77d3b026ef4597b58481269e428060": {
          "model_module": "@jupyter-widgets/controls",
          "model_name": "DescriptionStyleModel",
          "model_module_version": "1.5.0",
          "state": {
            "_model_module": "@jupyter-widgets/controls",
            "_model_module_version": "1.5.0",
            "_model_name": "DescriptionStyleModel",
            "_view_count": null,
            "_view_module": "@jupyter-widgets/base",
            "_view_module_version": "1.2.0",
            "_view_name": "StyleView",
            "description_width": ""
          }
        },
        "e700ccdf4b084d33885afe4f96cdfc01": {
          "model_module": "@jupyter-widgets/base",
          "model_name": "LayoutModel",
          "model_module_version": "1.2.0",
          "state": {
            "_model_module": "@jupyter-widgets/base",
            "_model_module_version": "1.2.0",
            "_model_name": "LayoutModel",
            "_view_count": null,
            "_view_module": "@jupyter-widgets/base",
            "_view_module_version": "1.2.0",
            "_view_name": "LayoutView",
            "align_content": null,
            "align_items": null,
            "align_self": null,
            "border": null,
            "bottom": null,
            "display": null,
            "flex": null,
            "flex_flow": null,
            "grid_area": null,
            "grid_auto_columns": null,
            "grid_auto_flow": null,
            "grid_auto_rows": null,
            "grid_column": null,
            "grid_gap": null,
            "grid_row": null,
            "grid_template_areas": null,
            "grid_template_columns": null,
            "grid_template_rows": null,
            "height": null,
            "justify_content": null,
            "justify_items": null,
            "left": null,
            "margin": null,
            "max_height": null,
            "max_width": null,
            "min_height": null,
            "min_width": null,
            "object_fit": null,
            "object_position": null,
            "order": null,
            "overflow": null,
            "overflow_x": null,
            "overflow_y": null,
            "padding": null,
            "right": null,
            "top": null,
            "visibility": null,
            "width": null
          }
        },
        "44dbe1310b864e28bcd388900c1451ba": {
          "model_module": "@jupyter-widgets/controls",
          "model_name": "ProgressStyleModel",
          "model_module_version": "1.5.0",
          "state": {
            "_model_module": "@jupyter-widgets/controls",
            "_model_module_version": "1.5.0",
            "_model_name": "ProgressStyleModel",
            "_view_count": null,
            "_view_module": "@jupyter-widgets/base",
            "_view_module_version": "1.2.0",
            "_view_name": "StyleView",
            "bar_color": null,
            "description_width": ""
          }
        },
        "e22feb686fd144a8af8ced2200a9833b": {
          "model_module": "@jupyter-widgets/base",
          "model_name": "LayoutModel",
          "model_module_version": "1.2.0",
          "state": {
            "_model_module": "@jupyter-widgets/base",
            "_model_module_version": "1.2.0",
            "_model_name": "LayoutModel",
            "_view_count": null,
            "_view_module": "@jupyter-widgets/base",
            "_view_module_version": "1.2.0",
            "_view_name": "LayoutView",
            "align_content": null,
            "align_items": null,
            "align_self": null,
            "border": null,
            "bottom": null,
            "display": null,
            "flex": null,
            "flex_flow": null,
            "grid_area": null,
            "grid_auto_columns": null,
            "grid_auto_flow": null,
            "grid_auto_rows": null,
            "grid_column": null,
            "grid_gap": null,
            "grid_row": null,
            "grid_template_areas": null,
            "grid_template_columns": null,
            "grid_template_rows": null,
            "height": null,
            "justify_content": null,
            "justify_items": null,
            "left": null,
            "margin": null,
            "max_height": null,
            "max_width": null,
            "min_height": null,
            "min_width": null,
            "object_fit": null,
            "object_position": null,
            "order": null,
            "overflow": null,
            "overflow_x": null,
            "overflow_y": null,
            "padding": null,
            "right": null,
            "top": null,
            "visibility": null,
            "width": null
          }
        },
        "d8f472a7a6114727b6fdacfd93e5a29c": {
          "model_module": "@jupyter-widgets/controls",
          "model_name": "DescriptionStyleModel",
          "model_module_version": "1.5.0",
          "state": {
            "_model_module": "@jupyter-widgets/controls",
            "_model_module_version": "1.5.0",
            "_model_name": "DescriptionStyleModel",
            "_view_count": null,
            "_view_module": "@jupyter-widgets/base",
            "_view_module_version": "1.2.0",
            "_view_name": "StyleView",
            "description_width": ""
          }
        },
        "6da2f3e644be4d29b86f0a102790707c": {
          "model_module": "@jupyter-widgets/controls",
          "model_name": "HBoxModel",
          "model_module_version": "1.5.0",
          "state": {
            "_dom_classes": [],
            "_model_module": "@jupyter-widgets/controls",
            "_model_module_version": "1.5.0",
            "_model_name": "HBoxModel",
            "_view_count": null,
            "_view_module": "@jupyter-widgets/controls",
            "_view_module_version": "1.5.0",
            "_view_name": "HBoxView",
            "box_style": "",
            "children": [
              "IPY_MODEL_26d79e2ca0b44e86bfa2603c475d575b",
              "IPY_MODEL_745820fe0c584aef8a0b152686b8a277",
              "IPY_MODEL_7cc92ef79e164ccea32be727c9b8dfee"
            ],
            "layout": "IPY_MODEL_8652115d41044bdbac5cf0d5700538de"
          }
        },
        "26d79e2ca0b44e86bfa2603c475d575b": {
          "model_module": "@jupyter-widgets/controls",
          "model_name": "HTMLModel",
          "model_module_version": "1.5.0",
          "state": {
            "_dom_classes": [],
            "_model_module": "@jupyter-widgets/controls",
            "_model_module_version": "1.5.0",
            "_model_name": "HTMLModel",
            "_view_count": null,
            "_view_module": "@jupyter-widgets/controls",
            "_view_module_version": "1.5.0",
            "_view_name": "HTMLView",
            "description": "",
            "description_tooltip": null,
            "layout": "IPY_MODEL_a15a71a6dd0f4af4b9173792f912a564",
            "placeholder": "​",
            "style": "IPY_MODEL_6d6112bd1b054675a410df5fb4c8cff8",
            "value": "tokenizer.json: 100%"
          }
        },
        "745820fe0c584aef8a0b152686b8a277": {
          "model_module": "@jupyter-widgets/controls",
          "model_name": "FloatProgressModel",
          "model_module_version": "1.5.0",
          "state": {
            "_dom_classes": [],
            "_model_module": "@jupyter-widgets/controls",
            "_model_module_version": "1.5.0",
            "_model_name": "FloatProgressModel",
            "_view_count": null,
            "_view_module": "@jupyter-widgets/controls",
            "_view_module_version": "1.5.0",
            "_view_name": "ProgressView",
            "bar_style": "success",
            "description": "",
            "description_tooltip": null,
            "layout": "IPY_MODEL_3d92840d1a9148b886440fb633c82e8a",
            "max": 9081518,
            "min": 0,
            "orientation": "horizontal",
            "style": "IPY_MODEL_9ed35d51273d469b837ef8bd86723c78",
            "value": 9081518
          }
        },
        "7cc92ef79e164ccea32be727c9b8dfee": {
          "model_module": "@jupyter-widgets/controls",
          "model_name": "HTMLModel",
          "model_module_version": "1.5.0",
          "state": {
            "_dom_classes": [],
            "_model_module": "@jupyter-widgets/controls",
            "_model_module_version": "1.5.0",
            "_model_name": "HTMLModel",
            "_view_count": null,
            "_view_module": "@jupyter-widgets/controls",
            "_view_module_version": "1.5.0",
            "_view_name": "HTMLView",
            "description": "",
            "description_tooltip": null,
            "layout": "IPY_MODEL_8ae8994f003b42ddad0e14c3edf3b7b2",
            "placeholder": "​",
            "style": "IPY_MODEL_5648b5129571497daada933753fd739e",
            "value": " 9.08M/9.08M [00:00&lt;00:00, 19.7MB/s]"
          }
        },
        "8652115d41044bdbac5cf0d5700538de": {
          "model_module": "@jupyter-widgets/base",
          "model_name": "LayoutModel",
          "model_module_version": "1.2.0",
          "state": {
            "_model_module": "@jupyter-widgets/base",
            "_model_module_version": "1.2.0",
            "_model_name": "LayoutModel",
            "_view_count": null,
            "_view_module": "@jupyter-widgets/base",
            "_view_module_version": "1.2.0",
            "_view_name": "LayoutView",
            "align_content": null,
            "align_items": null,
            "align_self": null,
            "border": null,
            "bottom": null,
            "display": null,
            "flex": null,
            "flex_flow": null,
            "grid_area": null,
            "grid_auto_columns": null,
            "grid_auto_flow": null,
            "grid_auto_rows": null,
            "grid_column": null,
            "grid_gap": null,
            "grid_row": null,
            "grid_template_areas": null,
            "grid_template_columns": null,
            "grid_template_rows": null,
            "height": null,
            "justify_content": null,
            "justify_items": null,
            "left": null,
            "margin": null,
            "max_height": null,
            "max_width": null,
            "min_height": null,
            "min_width": null,
            "object_fit": null,
            "object_position": null,
            "order": null,
            "overflow": null,
            "overflow_x": null,
            "overflow_y": null,
            "padding": null,
            "right": null,
            "top": null,
            "visibility": null,
            "width": null
          }
        },
        "a15a71a6dd0f4af4b9173792f912a564": {
          "model_module": "@jupyter-widgets/base",
          "model_name": "LayoutModel",
          "model_module_version": "1.2.0",
          "state": {
            "_model_module": "@jupyter-widgets/base",
            "_model_module_version": "1.2.0",
            "_model_name": "LayoutModel",
            "_view_count": null,
            "_view_module": "@jupyter-widgets/base",
            "_view_module_version": "1.2.0",
            "_view_name": "LayoutView",
            "align_content": null,
            "align_items": null,
            "align_self": null,
            "border": null,
            "bottom": null,
            "display": null,
            "flex": null,
            "flex_flow": null,
            "grid_area": null,
            "grid_auto_columns": null,
            "grid_auto_flow": null,
            "grid_auto_rows": null,
            "grid_column": null,
            "grid_gap": null,
            "grid_row": null,
            "grid_template_areas": null,
            "grid_template_columns": null,
            "grid_template_rows": null,
            "height": null,
            "justify_content": null,
            "justify_items": null,
            "left": null,
            "margin": null,
            "max_height": null,
            "max_width": null,
            "min_height": null,
            "min_width": null,
            "object_fit": null,
            "object_position": null,
            "order": null,
            "overflow": null,
            "overflow_x": null,
            "overflow_y": null,
            "padding": null,
            "right": null,
            "top": null,
            "visibility": null,
            "width": null
          }
        },
        "6d6112bd1b054675a410df5fb4c8cff8": {
          "model_module": "@jupyter-widgets/controls",
          "model_name": "DescriptionStyleModel",
          "model_module_version": "1.5.0",
          "state": {
            "_model_module": "@jupyter-widgets/controls",
            "_model_module_version": "1.5.0",
            "_model_name": "DescriptionStyleModel",
            "_view_count": null,
            "_view_module": "@jupyter-widgets/base",
            "_view_module_version": "1.2.0",
            "_view_name": "StyleView",
            "description_width": ""
          }
        },
        "3d92840d1a9148b886440fb633c82e8a": {
          "model_module": "@jupyter-widgets/base",
          "model_name": "LayoutModel",
          "model_module_version": "1.2.0",
          "state": {
            "_model_module": "@jupyter-widgets/base",
            "_model_module_version": "1.2.0",
            "_model_name": "LayoutModel",
            "_view_count": null,
            "_view_module": "@jupyter-widgets/base",
            "_view_module_version": "1.2.0",
            "_view_name": "LayoutView",
            "align_content": null,
            "align_items": null,
            "align_self": null,
            "border": null,
            "bottom": null,
            "display": null,
            "flex": null,
            "flex_flow": null,
            "grid_area": null,
            "grid_auto_columns": null,
            "grid_auto_flow": null,
            "grid_auto_rows": null,
            "grid_column": null,
            "grid_gap": null,
            "grid_row": null,
            "grid_template_areas": null,
            "grid_template_columns": null,
            "grid_template_rows": null,
            "height": null,
            "justify_content": null,
            "justify_items": null,
            "left": null,
            "margin": null,
            "max_height": null,
            "max_width": null,
            "min_height": null,
            "min_width": null,
            "object_fit": null,
            "object_position": null,
            "order": null,
            "overflow": null,
            "overflow_x": null,
            "overflow_y": null,
            "padding": null,
            "right": null,
            "top": null,
            "visibility": null,
            "width": null
          }
        },
        "9ed35d51273d469b837ef8bd86723c78": {
          "model_module": "@jupyter-widgets/controls",
          "model_name": "ProgressStyleModel",
          "model_module_version": "1.5.0",
          "state": {
            "_model_module": "@jupyter-widgets/controls",
            "_model_module_version": "1.5.0",
            "_model_name": "ProgressStyleModel",
            "_view_count": null,
            "_view_module": "@jupyter-widgets/base",
            "_view_module_version": "1.2.0",
            "_view_name": "StyleView",
            "bar_color": null,
            "description_width": ""
          }
        },
        "8ae8994f003b42ddad0e14c3edf3b7b2": {
          "model_module": "@jupyter-widgets/base",
          "model_name": "LayoutModel",
          "model_module_version": "1.2.0",
          "state": {
            "_model_module": "@jupyter-widgets/base",
            "_model_module_version": "1.2.0",
            "_model_name": "LayoutModel",
            "_view_count": null,
            "_view_module": "@jupyter-widgets/base",
            "_view_module_version": "1.2.0",
            "_view_name": "LayoutView",
            "align_content": null,
            "align_items": null,
            "align_self": null,
            "border": null,
            "bottom": null,
            "display": null,
            "flex": null,
            "flex_flow": null,
            "grid_area": null,
            "grid_auto_columns": null,
            "grid_auto_flow": null,
            "grid_auto_rows": null,
            "grid_column": null,
            "grid_gap": null,
            "grid_row": null,
            "grid_template_areas": null,
            "grid_template_columns": null,
            "grid_template_rows": null,
            "height": null,
            "justify_content": null,
            "justify_items": null,
            "left": null,
            "margin": null,
            "max_height": null,
            "max_width": null,
            "min_height": null,
            "min_width": null,
            "object_fit": null,
            "object_position": null,
            "order": null,
            "overflow": null,
            "overflow_x": null,
            "overflow_y": null,
            "padding": null,
            "right": null,
            "top": null,
            "visibility": null,
            "width": null
          }
        },
        "5648b5129571497daada933753fd739e": {
          "model_module": "@jupyter-widgets/controls",
          "model_name": "DescriptionStyleModel",
          "model_module_version": "1.5.0",
          "state": {
            "_model_module": "@jupyter-widgets/controls",
            "_model_module_version": "1.5.0",
            "_model_name": "DescriptionStyleModel",
            "_view_count": null,
            "_view_module": "@jupyter-widgets/base",
            "_view_module_version": "1.2.0",
            "_view_name": "StyleView",
            "description_width": ""
          }
        },
        "7a37e14e3e4e4899bc0fbed8f43edd1e": {
          "model_module": "@jupyter-widgets/controls",
          "model_name": "HBoxModel",
          "model_module_version": "1.5.0",
          "state": {
            "_dom_classes": [],
            "_model_module": "@jupyter-widgets/controls",
            "_model_module_version": "1.5.0",
            "_model_name": "HBoxModel",
            "_view_count": null,
            "_view_module": "@jupyter-widgets/controls",
            "_view_module_version": "1.5.0",
            "_view_name": "HBoxView",
            "box_style": "",
            "children": [
              "IPY_MODEL_df4ba0fb9ddf4dec81016d07d91fb89c",
              "IPY_MODEL_f4d44ac5c95c48f99efdcce71be158ed",
              "IPY_MODEL_7b1e7922cee94071acdd38c4ea453c78"
            ],
            "layout": "IPY_MODEL_f2976185b7f948b181c4c9ba6bfd7048"
          }
        },
        "df4ba0fb9ddf4dec81016d07d91fb89c": {
          "model_module": "@jupyter-widgets/controls",
          "model_name": "HTMLModel",
          "model_module_version": "1.5.0",
          "state": {
            "_dom_classes": [],
            "_model_module": "@jupyter-widgets/controls",
            "_model_module_version": "1.5.0",
            "_model_name": "HTMLModel",
            "_view_count": null,
            "_view_module": "@jupyter-widgets/controls",
            "_view_module_version": "1.5.0",
            "_view_name": "HTMLView",
            "description": "",
            "description_tooltip": null,
            "layout": "IPY_MODEL_df07a99784ae4cf79e622774d3c2d046",
            "placeholder": "​",
            "style": "IPY_MODEL_e0bb95acf6384e0785960ad5a1db174f",
            "value": "special_tokens_map.json: 100%"
          }
        },
        "f4d44ac5c95c48f99efdcce71be158ed": {
          "model_module": "@jupyter-widgets/controls",
          "model_name": "FloatProgressModel",
          "model_module_version": "1.5.0",
          "state": {
            "_dom_classes": [],
            "_model_module": "@jupyter-widgets/controls",
            "_model_module_version": "1.5.0",
            "_model_name": "FloatProgressModel",
            "_view_count": null,
            "_view_module": "@jupyter-widgets/controls",
            "_view_module_version": "1.5.0",
            "_view_name": "ProgressView",
            "bar_style": "success",
            "description": "",
            "description_tooltip": null,
            "layout": "IPY_MODEL_ee7179549acf490ca33c6a3dadb76062",
            "max": 239,
            "min": 0,
            "orientation": "horizontal",
            "style": "IPY_MODEL_2019a229c64b43ec8fdb4e84e079fa62",
            "value": 239
          }
        },
        "7b1e7922cee94071acdd38c4ea453c78": {
          "model_module": "@jupyter-widgets/controls",
          "model_name": "HTMLModel",
          "model_module_version": "1.5.0",
          "state": {
            "_dom_classes": [],
            "_model_module": "@jupyter-widgets/controls",
            "_model_module_version": "1.5.0",
            "_model_name": "HTMLModel",
            "_view_count": null,
            "_view_module": "@jupyter-widgets/controls",
            "_view_module_version": "1.5.0",
            "_view_name": "HTMLView",
            "description": "",
            "description_tooltip": null,
            "layout": "IPY_MODEL_2bf4e7cdf91248168292f5c21bdaa130",
            "placeholder": "​",
            "style": "IPY_MODEL_9d00e5e3cc6f477bb09e3edf7abbd7aa",
            "value": " 239/239 [00:00&lt;00:00, 23.4kB/s]"
          }
        },
        "f2976185b7f948b181c4c9ba6bfd7048": {
          "model_module": "@jupyter-widgets/base",
          "model_name": "LayoutModel",
          "model_module_version": "1.2.0",
          "state": {
            "_model_module": "@jupyter-widgets/base",
            "_model_module_version": "1.2.0",
            "_model_name": "LayoutModel",
            "_view_count": null,
            "_view_module": "@jupyter-widgets/base",
            "_view_module_version": "1.2.0",
            "_view_name": "LayoutView",
            "align_content": null,
            "align_items": null,
            "align_self": null,
            "border": null,
            "bottom": null,
            "display": null,
            "flex": null,
            "flex_flow": null,
            "grid_area": null,
            "grid_auto_columns": null,
            "grid_auto_flow": null,
            "grid_auto_rows": null,
            "grid_column": null,
            "grid_gap": null,
            "grid_row": null,
            "grid_template_areas": null,
            "grid_template_columns": null,
            "grid_template_rows": null,
            "height": null,
            "justify_content": null,
            "justify_items": null,
            "left": null,
            "margin": null,
            "max_height": null,
            "max_width": null,
            "min_height": null,
            "min_width": null,
            "object_fit": null,
            "object_position": null,
            "order": null,
            "overflow": null,
            "overflow_x": null,
            "overflow_y": null,
            "padding": null,
            "right": null,
            "top": null,
            "visibility": null,
            "width": null
          }
        },
        "df07a99784ae4cf79e622774d3c2d046": {
          "model_module": "@jupyter-widgets/base",
          "model_name": "LayoutModel",
          "model_module_version": "1.2.0",
          "state": {
            "_model_module": "@jupyter-widgets/base",
            "_model_module_version": "1.2.0",
            "_model_name": "LayoutModel",
            "_view_count": null,
            "_view_module": "@jupyter-widgets/base",
            "_view_module_version": "1.2.0",
            "_view_name": "LayoutView",
            "align_content": null,
            "align_items": null,
            "align_self": null,
            "border": null,
            "bottom": null,
            "display": null,
            "flex": null,
            "flex_flow": null,
            "grid_area": null,
            "grid_auto_columns": null,
            "grid_auto_flow": null,
            "grid_auto_rows": null,
            "grid_column": null,
            "grid_gap": null,
            "grid_row": null,
            "grid_template_areas": null,
            "grid_template_columns": null,
            "grid_template_rows": null,
            "height": null,
            "justify_content": null,
            "justify_items": null,
            "left": null,
            "margin": null,
            "max_height": null,
            "max_width": null,
            "min_height": null,
            "min_width": null,
            "object_fit": null,
            "object_position": null,
            "order": null,
            "overflow": null,
            "overflow_x": null,
            "overflow_y": null,
            "padding": null,
            "right": null,
            "top": null,
            "visibility": null,
            "width": null
          }
        },
        "e0bb95acf6384e0785960ad5a1db174f": {
          "model_module": "@jupyter-widgets/controls",
          "model_name": "DescriptionStyleModel",
          "model_module_version": "1.5.0",
          "state": {
            "_model_module": "@jupyter-widgets/controls",
            "_model_module_version": "1.5.0",
            "_model_name": "DescriptionStyleModel",
            "_view_count": null,
            "_view_module": "@jupyter-widgets/base",
            "_view_module_version": "1.2.0",
            "_view_name": "StyleView",
            "description_width": ""
          }
        },
        "ee7179549acf490ca33c6a3dadb76062": {
          "model_module": "@jupyter-widgets/base",
          "model_name": "LayoutModel",
          "model_module_version": "1.2.0",
          "state": {
            "_model_module": "@jupyter-widgets/base",
            "_model_module_version": "1.2.0",
            "_model_name": "LayoutModel",
            "_view_count": null,
            "_view_module": "@jupyter-widgets/base",
            "_view_module_version": "1.2.0",
            "_view_name": "LayoutView",
            "align_content": null,
            "align_items": null,
            "align_self": null,
            "border": null,
            "bottom": null,
            "display": null,
            "flex": null,
            "flex_flow": null,
            "grid_area": null,
            "grid_auto_columns": null,
            "grid_auto_flow": null,
            "grid_auto_rows": null,
            "grid_column": null,
            "grid_gap": null,
            "grid_row": null,
            "grid_template_areas": null,
            "grid_template_columns": null,
            "grid_template_rows": null,
            "height": null,
            "justify_content": null,
            "justify_items": null,
            "left": null,
            "margin": null,
            "max_height": null,
            "max_width": null,
            "min_height": null,
            "min_width": null,
            "object_fit": null,
            "object_position": null,
            "order": null,
            "overflow": null,
            "overflow_x": null,
            "overflow_y": null,
            "padding": null,
            "right": null,
            "top": null,
            "visibility": null,
            "width": null
          }
        },
        "2019a229c64b43ec8fdb4e84e079fa62": {
          "model_module": "@jupyter-widgets/controls",
          "model_name": "ProgressStyleModel",
          "model_module_version": "1.5.0",
          "state": {
            "_model_module": "@jupyter-widgets/controls",
            "_model_module_version": "1.5.0",
            "_model_name": "ProgressStyleModel",
            "_view_count": null,
            "_view_module": "@jupyter-widgets/base",
            "_view_module_version": "1.2.0",
            "_view_name": "StyleView",
            "bar_color": null,
            "description_width": ""
          }
        },
        "2bf4e7cdf91248168292f5c21bdaa130": {
          "model_module": "@jupyter-widgets/base",
          "model_name": "LayoutModel",
          "model_module_version": "1.2.0",
          "state": {
            "_model_module": "@jupyter-widgets/base",
            "_model_module_version": "1.2.0",
            "_model_name": "LayoutModel",
            "_view_count": null,
            "_view_module": "@jupyter-widgets/base",
            "_view_module_version": "1.2.0",
            "_view_name": "LayoutView",
            "align_content": null,
            "align_items": null,
            "align_self": null,
            "border": null,
            "bottom": null,
            "display": null,
            "flex": null,
            "flex_flow": null,
            "grid_area": null,
            "grid_auto_columns": null,
            "grid_auto_flow": null,
            "grid_auto_rows": null,
            "grid_column": null,
            "grid_gap": null,
            "grid_row": null,
            "grid_template_areas": null,
            "grid_template_columns": null,
            "grid_template_rows": null,
            "height": null,
            "justify_content": null,
            "justify_items": null,
            "left": null,
            "margin": null,
            "max_height": null,
            "max_width": null,
            "min_height": null,
            "min_width": null,
            "object_fit": null,
            "object_position": null,
            "order": null,
            "overflow": null,
            "overflow_x": null,
            "overflow_y": null,
            "padding": null,
            "right": null,
            "top": null,
            "visibility": null,
            "width": null
          }
        },
        "9d00e5e3cc6f477bb09e3edf7abbd7aa": {
          "model_module": "@jupyter-widgets/controls",
          "model_name": "DescriptionStyleModel",
          "model_module_version": "1.5.0",
          "state": {
            "_model_module": "@jupyter-widgets/controls",
            "_model_module_version": "1.5.0",
            "_model_name": "DescriptionStyleModel",
            "_view_count": null,
            "_view_module": "@jupyter-widgets/base",
            "_view_module_version": "1.2.0",
            "_view_name": "StyleView",
            "description_width": ""
          }
        },
        "647527d99930441cb1b80dcb55daf950": {
          "model_module": "@jupyter-widgets/controls",
          "model_name": "HBoxModel",
          "model_module_version": "1.5.0",
          "state": {
            "_dom_classes": [],
            "_model_module": "@jupyter-widgets/controls",
            "_model_module_version": "1.5.0",
            "_model_name": "HBoxModel",
            "_view_count": null,
            "_view_module": "@jupyter-widgets/controls",
            "_view_module_version": "1.5.0",
            "_view_name": "HBoxView",
            "box_style": "",
            "children": [
              "IPY_MODEL_ef4355e1ee3848e0831803912fdd2a11",
              "IPY_MODEL_24ee3ce5cfae4fd79fab42b3168fab9b",
              "IPY_MODEL_51b8ddc389bb4928a359aac52c82750a"
            ],
            "layout": "IPY_MODEL_bba873c7a8b247bd812c6557b1f969c1"
          }
        },
        "ef4355e1ee3848e0831803912fdd2a11": {
          "model_module": "@jupyter-widgets/controls",
          "model_name": "HTMLModel",
          "model_module_version": "1.5.0",
          "state": {
            "_dom_classes": [],
            "_model_module": "@jupyter-widgets/controls",
            "_model_module_version": "1.5.0",
            "_model_name": "HTMLModel",
            "_view_count": null,
            "_view_module": "@jupyter-widgets/controls",
            "_view_module_version": "1.5.0",
            "_view_name": "HTMLView",
            "description": "",
            "description_tooltip": null,
            "layout": "IPY_MODEL_00ddca69cca94902b798ed7326e3c709",
            "placeholder": "​",
            "style": "IPY_MODEL_06de68aa98a14ed8aa61b6c790ba3b58",
            "value": "1_Pooling/config.json: 100%"
          }
        },
        "24ee3ce5cfae4fd79fab42b3168fab9b": {
          "model_module": "@jupyter-widgets/controls",
          "model_name": "FloatProgressModel",
          "model_module_version": "1.5.0",
          "state": {
            "_dom_classes": [],
            "_model_module": "@jupyter-widgets/controls",
            "_model_module_version": "1.5.0",
            "_model_name": "FloatProgressModel",
            "_view_count": null,
            "_view_module": "@jupyter-widgets/controls",
            "_view_module_version": "1.5.0",
            "_view_name": "ProgressView",
            "bar_style": "success",
            "description": "",
            "description_tooltip": null,
            "layout": "IPY_MODEL_b33699b55e544fd0ad67f88007998530",
            "max": 190,
            "min": 0,
            "orientation": "horizontal",
            "style": "IPY_MODEL_6120ff587145430e8cc5a05c150d6f74",
            "value": 190
          }
        },
        "51b8ddc389bb4928a359aac52c82750a": {
          "model_module": "@jupyter-widgets/controls",
          "model_name": "HTMLModel",
          "model_module_version": "1.5.0",
          "state": {
            "_dom_classes": [],
            "_model_module": "@jupyter-widgets/controls",
            "_model_module_version": "1.5.0",
            "_model_name": "HTMLModel",
            "_view_count": null,
            "_view_module": "@jupyter-widgets/controls",
            "_view_module_version": "1.5.0",
            "_view_name": "HTMLView",
            "description": "",
            "description_tooltip": null,
            "layout": "IPY_MODEL_ae9193cb579044b2aba6347eb9dbb728",
            "placeholder": "​",
            "style": "IPY_MODEL_82ff9d06edcc42a6849ea466a80ab88c",
            "value": " 190/190 [00:00&lt;00:00, 13.2kB/s]"
          }
        },
        "bba873c7a8b247bd812c6557b1f969c1": {
          "model_module": "@jupyter-widgets/base",
          "model_name": "LayoutModel",
          "model_module_version": "1.2.0",
          "state": {
            "_model_module": "@jupyter-widgets/base",
            "_model_module_version": "1.2.0",
            "_model_name": "LayoutModel",
            "_view_count": null,
            "_view_module": "@jupyter-widgets/base",
            "_view_module_version": "1.2.0",
            "_view_name": "LayoutView",
            "align_content": null,
            "align_items": null,
            "align_self": null,
            "border": null,
            "bottom": null,
            "display": null,
            "flex": null,
            "flex_flow": null,
            "grid_area": null,
            "grid_auto_columns": null,
            "grid_auto_flow": null,
            "grid_auto_rows": null,
            "grid_column": null,
            "grid_gap": null,
            "grid_row": null,
            "grid_template_areas": null,
            "grid_template_columns": null,
            "grid_template_rows": null,
            "height": null,
            "justify_content": null,
            "justify_items": null,
            "left": null,
            "margin": null,
            "max_height": null,
            "max_width": null,
            "min_height": null,
            "min_width": null,
            "object_fit": null,
            "object_position": null,
            "order": null,
            "overflow": null,
            "overflow_x": null,
            "overflow_y": null,
            "padding": null,
            "right": null,
            "top": null,
            "visibility": null,
            "width": null
          }
        },
        "00ddca69cca94902b798ed7326e3c709": {
          "model_module": "@jupyter-widgets/base",
          "model_name": "LayoutModel",
          "model_module_version": "1.2.0",
          "state": {
            "_model_module": "@jupyter-widgets/base",
            "_model_module_version": "1.2.0",
            "_model_name": "LayoutModel",
            "_view_count": null,
            "_view_module": "@jupyter-widgets/base",
            "_view_module_version": "1.2.0",
            "_view_name": "LayoutView",
            "align_content": null,
            "align_items": null,
            "align_self": null,
            "border": null,
            "bottom": null,
            "display": null,
            "flex": null,
            "flex_flow": null,
            "grid_area": null,
            "grid_auto_columns": null,
            "grid_auto_flow": null,
            "grid_auto_rows": null,
            "grid_column": null,
            "grid_gap": null,
            "grid_row": null,
            "grid_template_areas": null,
            "grid_template_columns": null,
            "grid_template_rows": null,
            "height": null,
            "justify_content": null,
            "justify_items": null,
            "left": null,
            "margin": null,
            "max_height": null,
            "max_width": null,
            "min_height": null,
            "min_width": null,
            "object_fit": null,
            "object_position": null,
            "order": null,
            "overflow": null,
            "overflow_x": null,
            "overflow_y": null,
            "padding": null,
            "right": null,
            "top": null,
            "visibility": null,
            "width": null
          }
        },
        "06de68aa98a14ed8aa61b6c790ba3b58": {
          "model_module": "@jupyter-widgets/controls",
          "model_name": "DescriptionStyleModel",
          "model_module_version": "1.5.0",
          "state": {
            "_model_module": "@jupyter-widgets/controls",
            "_model_module_version": "1.5.0",
            "_model_name": "DescriptionStyleModel",
            "_view_count": null,
            "_view_module": "@jupyter-widgets/base",
            "_view_module_version": "1.2.0",
            "_view_name": "StyleView",
            "description_width": ""
          }
        },
        "b33699b55e544fd0ad67f88007998530": {
          "model_module": "@jupyter-widgets/base",
          "model_name": "LayoutModel",
          "model_module_version": "1.2.0",
          "state": {
            "_model_module": "@jupyter-widgets/base",
            "_model_module_version": "1.2.0",
            "_model_name": "LayoutModel",
            "_view_count": null,
            "_view_module": "@jupyter-widgets/base",
            "_view_module_version": "1.2.0",
            "_view_name": "LayoutView",
            "align_content": null,
            "align_items": null,
            "align_self": null,
            "border": null,
            "bottom": null,
            "display": null,
            "flex": null,
            "flex_flow": null,
            "grid_area": null,
            "grid_auto_columns": null,
            "grid_auto_flow": null,
            "grid_auto_rows": null,
            "grid_column": null,
            "grid_gap": null,
            "grid_row": null,
            "grid_template_areas": null,
            "grid_template_columns": null,
            "grid_template_rows": null,
            "height": null,
            "justify_content": null,
            "justify_items": null,
            "left": null,
            "margin": null,
            "max_height": null,
            "max_width": null,
            "min_height": null,
            "min_width": null,
            "object_fit": null,
            "object_position": null,
            "order": null,
            "overflow": null,
            "overflow_x": null,
            "overflow_y": null,
            "padding": null,
            "right": null,
            "top": null,
            "visibility": null,
            "width": null
          }
        },
        "6120ff587145430e8cc5a05c150d6f74": {
          "model_module": "@jupyter-widgets/controls",
          "model_name": "ProgressStyleModel",
          "model_module_version": "1.5.0",
          "state": {
            "_model_module": "@jupyter-widgets/controls",
            "_model_module_version": "1.5.0",
            "_model_name": "ProgressStyleModel",
            "_view_count": null,
            "_view_module": "@jupyter-widgets/base",
            "_view_module_version": "1.2.0",
            "_view_name": "StyleView",
            "bar_color": null,
            "description_width": ""
          }
        },
        "ae9193cb579044b2aba6347eb9dbb728": {
          "model_module": "@jupyter-widgets/base",
          "model_name": "LayoutModel",
          "model_module_version": "1.2.0",
          "state": {
            "_model_module": "@jupyter-widgets/base",
            "_model_module_version": "1.2.0",
            "_model_name": "LayoutModel",
            "_view_count": null,
            "_view_module": "@jupyter-widgets/base",
            "_view_module_version": "1.2.0",
            "_view_name": "LayoutView",
            "align_content": null,
            "align_items": null,
            "align_self": null,
            "border": null,
            "bottom": null,
            "display": null,
            "flex": null,
            "flex_flow": null,
            "grid_area": null,
            "grid_auto_columns": null,
            "grid_auto_flow": null,
            "grid_auto_rows": null,
            "grid_column": null,
            "grid_gap": null,
            "grid_row": null,
            "grid_template_areas": null,
            "grid_template_columns": null,
            "grid_template_rows": null,
            "height": null,
            "justify_content": null,
            "justify_items": null,
            "left": null,
            "margin": null,
            "max_height": null,
            "max_width": null,
            "min_height": null,
            "min_width": null,
            "object_fit": null,
            "object_position": null,
            "order": null,
            "overflow": null,
            "overflow_x": null,
            "overflow_y": null,
            "padding": null,
            "right": null,
            "top": null,
            "visibility": null,
            "width": null
          }
        },
        "82ff9d06edcc42a6849ea466a80ab88c": {
          "model_module": "@jupyter-widgets/controls",
          "model_name": "DescriptionStyleModel",
          "model_module_version": "1.5.0",
          "state": {
            "_model_module": "@jupyter-widgets/controls",
            "_model_module_version": "1.5.0",
            "_model_name": "DescriptionStyleModel",
            "_view_count": null,
            "_view_module": "@jupyter-widgets/base",
            "_view_module_version": "1.2.0",
            "_view_name": "StyleView",
            "description_width": ""
          }
        }
      }
    }
  },
  "cells": [
    {
      "cell_type": "markdown",
      "source": [
        "Autor: Daniel Flores"
      ],
      "metadata": {
        "id": "8f-kRTYEIK6y"
      }
    },
    {
      "cell_type": "markdown",
      "source": [
        "# Librerías"
      ],
      "metadata": {
        "id": "kzx0ASpT7PG0"
      }
    },
    {
      "cell_type": "code",
      "execution_count": 1,
      "metadata": {
        "id": "fPxWHEjrTfcN",
        "colab": {
          "base_uri": "https://localhost:8080/"
        },
        "outputId": "d2838035-b23d-482b-a7c3-b3ae5ce4d304"
      },
      "outputs": [
        {
          "output_type": "stream",
          "name": "stdout",
          "text": [
            "\u001b[?25l   \u001b[90m━━━━━━━━━━━━━━━━━━━━━━━━━━━━━━━━━━━━━━━━\u001b[0m \u001b[32m0.0/41.3 kB\u001b[0m \u001b[31m?\u001b[0m eta \u001b[36m-:--:--\u001b[0m\r\u001b[2K   \u001b[90m━━━━━━━━━━━━━━━━━━━━━━━━━━━━━━━━━━━━━━━━\u001b[0m \u001b[32m41.3/41.3 kB\u001b[0m \u001b[31m2.4 MB/s\u001b[0m eta \u001b[36m0:00:00\u001b[0m\n",
            "\u001b[?25h"
          ]
        }
      ],
      "source": [
        "!pip -q install langchain-google-genai"
      ]
    },
    {
      "cell_type": "code",
      "source": [
        "!pip -q install langchain-huggingface"
      ],
      "metadata": {
        "id": "ohB3fp4m7OIv"
      },
      "execution_count": 2,
      "outputs": []
    },
    {
      "cell_type": "code",
      "source": [
        "!pip -q install langchain-pinecone"
      ],
      "metadata": {
        "id": "tG7HIA-x7STf",
        "colab": {
          "base_uri": "https://localhost:8080/"
        },
        "outputId": "ca2e9ae6-f3b5-4a76-dfd5-b19269afb8be"
      },
      "execution_count": 3,
      "outputs": [
        {
          "output_type": "stream",
          "name": "stdout",
          "text": [
            "\u001b[?25l   \u001b[90m━━━━━━━━━━━━━━━━━━━━━━━━━━━━━━━━━━━━━━━━\u001b[0m \u001b[32m0.0/1.2 MB\u001b[0m \u001b[31m?\u001b[0m eta \u001b[36m-:--:--\u001b[0m\r\u001b[2K   \u001b[91m━━━━━━━━━━━━━━━━━━━━━━━━━\u001b[0m\u001b[90m╺\u001b[0m\u001b[90m━━━━━━━━━━━━━━\u001b[0m \u001b[32m0.8/1.2 MB\u001b[0m \u001b[31m24.0 MB/s\u001b[0m eta \u001b[36m0:00:01\u001b[0m\r\u001b[2K   \u001b[90m━━━━━━━━━━━━━━━━━━━━━━━━━━━━━━━━━━━━━━━━\u001b[0m \u001b[32m1.2/1.2 MB\u001b[0m \u001b[31m17.8 MB/s\u001b[0m eta \u001b[36m0:00:00\u001b[0m\n",
            "\u001b[2K   \u001b[90m━━━━━━━━━━━━━━━━━━━━━━━━━━━━━━━━━━━━━━━━\u001b[0m \u001b[32m244.8/244.8 kB\u001b[0m \u001b[31m9.5 MB/s\u001b[0m eta \u001b[36m0:00:00\u001b[0m\n",
            "\u001b[2K   \u001b[90m━━━━━━━━━━━━━━━━━━━━━━━━━━━━━━━━━━━━━━━━\u001b[0m \u001b[32m85.4/85.4 kB\u001b[0m \u001b[31m4.3 MB/s\u001b[0m eta \u001b[36m0:00:00\u001b[0m\n",
            "\u001b[?25h"
          ]
        }
      ]
    },
    {
      "cell_type": "code",
      "source": [
        "!pip install -qU langchain_community pypdf"
      ],
      "metadata": {
        "colab": {
          "base_uri": "https://localhost:8080/"
        },
        "id": "-HK9oUL2aVtl",
        "outputId": "2ee6f986-7c2f-42ac-ac57-d587f24f56cb"
      },
      "execution_count": 4,
      "outputs": [
        {
          "output_type": "stream",
          "name": "stdout",
          "text": [
            "\u001b[?25l   \u001b[90m━━━━━━━━━━━━━━━━━━━━━━━━━━━━━━━━━━━━━━━━\u001b[0m \u001b[32m0.0/2.4 MB\u001b[0m \u001b[31m?\u001b[0m eta \u001b[36m-:--:--\u001b[0m\r\u001b[2K   \u001b[91m━━━━━━━━━━━━━━━━━━━\u001b[0m\u001b[91m╸\u001b[0m\u001b[90m━━━━━━━━━━━━━━━━━━━━\u001b[0m \u001b[32m1.2/2.4 MB\u001b[0m \u001b[31m35.3 MB/s\u001b[0m eta \u001b[36m0:00:01\u001b[0m\r\u001b[2K   \u001b[90m━━━━━━━━━━━━━━━━━━━━━━━━━━━━━━━━━━━━━━━━\u001b[0m \u001b[32m2.4/2.4 MB\u001b[0m \u001b[31m35.9 MB/s\u001b[0m eta \u001b[36m0:00:00\u001b[0m\n",
            "\u001b[2K   \u001b[90m━━━━━━━━━━━━━━━━━━━━━━━━━━━━━━━━━━━━━━━━\u001b[0m \u001b[32m298.0/298.0 kB\u001b[0m \u001b[31m10.1 MB/s\u001b[0m eta \u001b[36m0:00:00\u001b[0m\n",
            "\u001b[2K   \u001b[90m━━━━━━━━━━━━━━━━━━━━━━━━━━━━━━━━━━━━━━━━\u001b[0m \u001b[32m1.0/1.0 MB\u001b[0m \u001b[31m32.1 MB/s\u001b[0m eta \u001b[36m0:00:00\u001b[0m\n",
            "\u001b[2K   \u001b[90m━━━━━━━━━━━━━━━━━━━━━━━━━━━━━━━━━━━━━━━━\u001b[0m \u001b[32m409.5/409.5 kB\u001b[0m \u001b[31m17.2 MB/s\u001b[0m eta \u001b[36m0:00:00\u001b[0m\n",
            "\u001b[2K   \u001b[90m━━━━━━━━━━━━━━━━━━━━━━━━━━━━━━━━━━━━━━━━\u001b[0m \u001b[32m49.5/49.5 kB\u001b[0m \u001b[31m4.3 MB/s\u001b[0m eta \u001b[36m0:00:00\u001b[0m\n",
            "\u001b[?25h"
          ]
        }
      ]
    },
    {
      "cell_type": "code",
      "source": [
        "!pip -q install langchain-community"
      ],
      "metadata": {
        "id": "BKVlKvAKcWt4"
      },
      "execution_count": 5,
      "outputs": []
    },
    {
      "cell_type": "markdown",
      "source": [
        "# Credenciales"
      ],
      "metadata": {
        "id": "tZQEJp3FbVOE"
      }
    },
    {
      "cell_type": "code",
      "source": [
        "import os\n",
        "from google.colab import userdata\n",
        "GOOGLE_API_KEY=userdata.get('GEN_TUTOR')\n",
        "# Establecer la clave de API en las variables de entorno\n",
        "os.environ[\"GOOGLE_API_KEY\"] = GOOGLE_API_KEY"
      ],
      "metadata": {
        "id": "cEtSxFPxbWmt"
      },
      "execution_count": 6,
      "outputs": []
    },
    {
      "cell_type": "code",
      "source": [
        "import getpass\n",
        "import os\n",
        "import time\n",
        "\n",
        "from pinecone import Pinecone, ServerlessSpec\n",
        "\n",
        "from google.colab import userdata\n",
        "PINECONE_API_KEY=userdata.get('Pinecone')\n",
        "\n",
        "os.environ[\"PINECONE_API_KEY\"] = PINECONE_API_KEY\n",
        "\n",
        "pinecone_api_key = PINECONE_API_KEY\n",
        "\n",
        "pc = Pinecone(api_key=pinecone_api_key)"
      ],
      "metadata": {
        "id": "ZhKaosiGbC-2"
      },
      "execution_count": 7,
      "outputs": []
    },
    {
      "cell_type": "markdown",
      "source": [
        "# Embedding Model\n"
      ],
      "metadata": {
        "id": "_5UtSZrx7OsO"
      }
    },
    {
      "cell_type": "code",
      "source": [
        "from langchain_huggingface import HuggingFaceEmbeddings\n",
        "\n",
        "embeddingsHF = HuggingFaceEmbeddings(model_name=\"sentence-transformers/paraphrase-multilingual-mpnet-base-v2\")"
      ],
      "metadata": {
        "colab": {
          "base_uri": "https://localhost:8080/",
          "referenced_widgets": [
            "b6deee6b049242eb83f7188b0fddacf5",
            "ee0a50c5bf91435094af185aeca32227",
            "c3b6c27e1e0c48d899916b2b93dcea7a",
            "a376c537c4854ffb8cd877734b4676eb",
            "654887ed2321475eba310bea779ed008",
            "58afb47cc34e45fb86619b7d85e1a369",
            "da28e5ffa5af43adbf946eeee9b10a9e",
            "7d1a783f51e44966a1513610118e0228",
            "f0cf7f3fc36f44f68661862a716bec17",
            "9a588a66828b4e52870e2c7e47c50010",
            "2c0ac0ad3a8b42ccbef983601f279fdd",
            "a401ff4b264b42c6823e96c86afac5d8",
            "a0d58b3aed194d219be8b5bb20d0097a",
            "cde31e579db94963b37399aa42407217",
            "edbf6292cf5c41048a7e207261813877",
            "1f14d7e88ce9446aa09df7f39893b9aa",
            "2c73b52da3ff4dcc866bf9666019fa37",
            "6da99cae51ab4db3969d3aab4933b199",
            "527feafdd0ae46b9a60d86b7a1fc0716",
            "156c9e0004e44a20b1cd71c60e7af3aa",
            "b7ae61f584f74296a822e114ca24c8a1",
            "01e302570d4f4f9e99bbe48a21ca6b35",
            "ba49e2bcbdfc412dba283120f654b83f",
            "0f83ebc7ff6640c497cabab9e9178425",
            "8100ed8a22a04c39b981c7aaf70858f6",
            "6f1665a80e7f4259ae91af708bad28ec",
            "2b3bb6aa7ed84a1286db0d8034b680be",
            "38818a4b61c14555ab7c44f4e56f5029",
            "aaaa469ee5b946388475ff794b5ff079",
            "9441e111a9654998be00bb807a83f2bf",
            "29e38ef743fa459e94d3584ca171e0a0",
            "f45166144be6413babb1cb304ad94bfe",
            "fd23f10dd2944044b06434c40e5f044b",
            "4dc7f07b51f143619ec38677faab61cf",
            "0e19ff3a3541416f9349fa1378720694",
            "d2bcc7fd72a34c0e86e76ba9622589a8",
            "99b63875f8f94823a27c2c56cf6eb681",
            "05839abf0fb24fdfbc9080ee0a9dd153",
            "4a7ec5e1c0f940d48086245a77c56185",
            "e1b9640dbcba4e1099e0df7c70d3ea54",
            "2722bf8bb25a4d2badbefaef61482710",
            "f159cdcecd02488d9a96c4a815bc2cbc",
            "6462db78c26b465f860ce99847f7d0e9",
            "9475a1957f894e54a8c78bb1a3d4f304",
            "469162ad0a03403fba74522737bc4e0c",
            "2bdae99bc7ba440c9b91ce9ce7b1ce46",
            "6d50a3b19e15450788eb7ec64e6f1522",
            "4a1e1586ffc04c63a9fb74d0930ed8a1",
            "92b639fd985b4427bd5ba3c3171e3183",
            "f9d8a4b64148434991a011191dc55312",
            "8d3ed7d4310948d99b3ff798baaa1472",
            "518fe9732c8f440eb9c5c9718bc7aaef",
            "fcb5f711ff644a0d97515831978315fc",
            "72b7dfef51954019977c2d88793f5625",
            "ba5080f4da9a4ba9b43372db2333c6d3",
            "a841dee344c84da4893224e73e1ea8ce",
            "03d7f62691544c439e01ec93230323ae",
            "232a1db1ed7f41adbbae0197b5e8485e",
            "1dafbe5c891a45a386d8fa2ff7739cfd",
            "f12f9bf3ff3e47b8a7268f513d938eb1",
            "bd6b9084054946d7b58c2b905b38b831",
            "902e43ceb7a54b1ea05b940159c893f0",
            "cb38ef2574694494b295b20aa3444d7c",
            "3e47d3eb1bea45faa7e57f6db334c4d4",
            "b34fbd7cb42846f6a84cbdc195b19470",
            "e0f394c226c546e1bf721159ba3625ad",
            "d177cf46d0cf466c86934e2d152a4d13",
            "2b49887ab83b46e0acbe3c307e5a31b1",
            "3ad563082b8141318a6aa79892a7c001",
            "c8548580740e4d74b43629f3ba34ab79",
            "434932546a07466bb26cb52c49ff5d3b",
            "424c79c1a0ae42b3abd24ed751531dd5",
            "5dd949b1fd954a399ff489b28a6e2524",
            "6dadb275b20d4f13b7ca3724d6a03a65",
            "49d11e58a738481b8b8b9a3cc2ff51a6",
            "88e34ac0344b4750a2c953aaf1e0db0c",
            "d7599d5d1134477c83629f0560b2db5d",
            "6b8d7074e0284e378655af00cda20063",
            "82675d5405e14a2fb2305e95bdbbaf1d",
            "592c756ffa244fbb9f27890aff523a4c",
            "a19114b9e7744bcfa58f7dd495b59d4c",
            "560a882fd4234d59808065f1a0028201",
            "5b28a2d4b8d74f28bc3c636980498b42",
            "ad77d3b026ef4597b58481269e428060",
            "e700ccdf4b084d33885afe4f96cdfc01",
            "44dbe1310b864e28bcd388900c1451ba",
            "e22feb686fd144a8af8ced2200a9833b",
            "d8f472a7a6114727b6fdacfd93e5a29c",
            "6da2f3e644be4d29b86f0a102790707c",
            "26d79e2ca0b44e86bfa2603c475d575b",
            "745820fe0c584aef8a0b152686b8a277",
            "7cc92ef79e164ccea32be727c9b8dfee",
            "8652115d41044bdbac5cf0d5700538de",
            "a15a71a6dd0f4af4b9173792f912a564",
            "6d6112bd1b054675a410df5fb4c8cff8",
            "3d92840d1a9148b886440fb633c82e8a",
            "9ed35d51273d469b837ef8bd86723c78",
            "8ae8994f003b42ddad0e14c3edf3b7b2",
            "5648b5129571497daada933753fd739e",
            "7a37e14e3e4e4899bc0fbed8f43edd1e",
            "df4ba0fb9ddf4dec81016d07d91fb89c",
            "f4d44ac5c95c48f99efdcce71be158ed",
            "7b1e7922cee94071acdd38c4ea453c78",
            "f2976185b7f948b181c4c9ba6bfd7048",
            "df07a99784ae4cf79e622774d3c2d046",
            "e0bb95acf6384e0785960ad5a1db174f",
            "ee7179549acf490ca33c6a3dadb76062",
            "2019a229c64b43ec8fdb4e84e079fa62",
            "2bf4e7cdf91248168292f5c21bdaa130",
            "9d00e5e3cc6f477bb09e3edf7abbd7aa",
            "647527d99930441cb1b80dcb55daf950",
            "ef4355e1ee3848e0831803912fdd2a11",
            "24ee3ce5cfae4fd79fab42b3168fab9b",
            "51b8ddc389bb4928a359aac52c82750a",
            "bba873c7a8b247bd812c6557b1f969c1",
            "00ddca69cca94902b798ed7326e3c709",
            "06de68aa98a14ed8aa61b6c790ba3b58",
            "b33699b55e544fd0ad67f88007998530",
            "6120ff587145430e8cc5a05c150d6f74",
            "ae9193cb579044b2aba6347eb9dbb728",
            "82ff9d06edcc42a6849ea466a80ab88c"
          ],
          "height": 498
        },
        "id": "Yc-rXOKN7c78",
        "outputId": "cbd4620a-e9af-44c8-ac37-1e01c60a0066"
      },
      "execution_count": 8,
      "outputs": [
        {
          "output_type": "stream",
          "name": "stderr",
          "text": [
            "/usr/local/lib/python3.10/dist-packages/huggingface_hub/utils/_auth.py:94: UserWarning: \n",
            "The secret `HF_TOKEN` does not exist in your Colab secrets.\n",
            "To authenticate with the Hugging Face Hub, create a token in your settings tab (https://huggingface.co/settings/tokens), set it as secret in your Google Colab and restart your session.\n",
            "You will be able to reuse this secret in all of your notebooks.\n",
            "Please note that authentication is recommended but still optional to access public models or datasets.\n",
            "  warnings.warn(\n"
          ]
        },
        {
          "output_type": "display_data",
          "data": {
            "text/plain": [
              "modules.json:   0%|          | 0.00/229 [00:00<?, ?B/s]"
            ],
            "application/vnd.jupyter.widget-view+json": {
              "version_major": 2,
              "version_minor": 0,
              "model_id": "b6deee6b049242eb83f7188b0fddacf5"
            }
          },
          "metadata": {}
        },
        {
          "output_type": "display_data",
          "data": {
            "text/plain": [
              "config_sentence_transformers.json:   0%|          | 0.00/122 [00:00<?, ?B/s]"
            ],
            "application/vnd.jupyter.widget-view+json": {
              "version_major": 2,
              "version_minor": 0,
              "model_id": "a401ff4b264b42c6823e96c86afac5d8"
            }
          },
          "metadata": {}
        },
        {
          "output_type": "display_data",
          "data": {
            "text/plain": [
              "README.md:   0%|          | 0.00/4.13k [00:00<?, ?B/s]"
            ],
            "application/vnd.jupyter.widget-view+json": {
              "version_major": 2,
              "version_minor": 0,
              "model_id": "ba49e2bcbdfc412dba283120f654b83f"
            }
          },
          "metadata": {}
        },
        {
          "output_type": "display_data",
          "data": {
            "text/plain": [
              "sentence_bert_config.json:   0%|          | 0.00/53.0 [00:00<?, ?B/s]"
            ],
            "application/vnd.jupyter.widget-view+json": {
              "version_major": 2,
              "version_minor": 0,
              "model_id": "4dc7f07b51f143619ec38677faab61cf"
            }
          },
          "metadata": {}
        },
        {
          "output_type": "display_data",
          "data": {
            "text/plain": [
              "config.json:   0%|          | 0.00/723 [00:00<?, ?B/s]"
            ],
            "application/vnd.jupyter.widget-view+json": {
              "version_major": 2,
              "version_minor": 0,
              "model_id": "469162ad0a03403fba74522737bc4e0c"
            }
          },
          "metadata": {}
        },
        {
          "output_type": "display_data",
          "data": {
            "text/plain": [
              "model.safetensors:   0%|          | 0.00/1.11G [00:00<?, ?B/s]"
            ],
            "application/vnd.jupyter.widget-view+json": {
              "version_major": 2,
              "version_minor": 0,
              "model_id": "a841dee344c84da4893224e73e1ea8ce"
            }
          },
          "metadata": {}
        },
        {
          "output_type": "display_data",
          "data": {
            "text/plain": [
              "tokenizer_config.json:   0%|          | 0.00/402 [00:00<?, ?B/s]"
            ],
            "application/vnd.jupyter.widget-view+json": {
              "version_major": 2,
              "version_minor": 0,
              "model_id": "d177cf46d0cf466c86934e2d152a4d13"
            }
          },
          "metadata": {}
        },
        {
          "output_type": "display_data",
          "data": {
            "text/plain": [
              "sentencepiece.bpe.model:   0%|          | 0.00/5.07M [00:00<?, ?B/s]"
            ],
            "application/vnd.jupyter.widget-view+json": {
              "version_major": 2,
              "version_minor": 0,
              "model_id": "6b8d7074e0284e378655af00cda20063"
            }
          },
          "metadata": {}
        },
        {
          "output_type": "display_data",
          "data": {
            "text/plain": [
              "tokenizer.json:   0%|          | 0.00/9.08M [00:00<?, ?B/s]"
            ],
            "application/vnd.jupyter.widget-view+json": {
              "version_major": 2,
              "version_minor": 0,
              "model_id": "6da2f3e644be4d29b86f0a102790707c"
            }
          },
          "metadata": {}
        },
        {
          "output_type": "display_data",
          "data": {
            "text/plain": [
              "special_tokens_map.json:   0%|          | 0.00/239 [00:00<?, ?B/s]"
            ],
            "application/vnd.jupyter.widget-view+json": {
              "version_major": 2,
              "version_minor": 0,
              "model_id": "7a37e14e3e4e4899bc0fbed8f43edd1e"
            }
          },
          "metadata": {}
        },
        {
          "output_type": "display_data",
          "data": {
            "text/plain": [
              "1_Pooling/config.json:   0%|          | 0.00/190 [00:00<?, ?B/s]"
            ],
            "application/vnd.jupyter.widget-view+json": {
              "version_major": 2,
              "version_minor": 0,
              "model_id": "647527d99930441cb1b80dcb55daf950"
            }
          },
          "metadata": {}
        }
      ]
    },
    {
      "cell_type": "code",
      "source": [
        "from langchain_google_genai import GoogleGenerativeAIEmbeddings\n",
        "\n",
        "embeddingsGAI = GoogleGenerativeAIEmbeddings(model=\"text-embedding-004\")"
      ],
      "metadata": {
        "id": "LMWhm-mHatDi"
      },
      "execution_count": null,
      "outputs": []
    },
    {
      "cell_type": "markdown",
      "source": [
        "# Vector Store"
      ],
      "metadata": {
        "id": "XPVg5Gqn2ZMX"
      }
    },
    {
      "cell_type": "code",
      "source": [
        "import time\n",
        "\n",
        "index_name = \"quickstart\"  # change if desired\n",
        "\n",
        "existing_indexes = [index_info[\"name\"] for index_info in pc.list_indexes()]\n",
        "\n",
        "index = pc.Index(index_name)"
      ],
      "metadata": {
        "id": "KVSS0RqN2bip"
      },
      "execution_count": null,
      "outputs": []
    },
    {
      "cell_type": "code",
      "source": [
        "index"
      ],
      "metadata": {
        "colab": {
          "base_uri": "https://localhost:8080/"
        },
        "id": "sE3v9vxy2khA",
        "outputId": "11fdb2c4-4c8e-4ccb-de2d-7409225f7c74"
      },
      "execution_count": null,
      "outputs": [
        {
          "output_type": "execute_result",
          "data": {
            "text/plain": [
              "<pinecone.data.index.Index at 0x7b8d84e388b0>"
            ]
          },
          "metadata": {},
          "execution_count": 13
        }
      ]
    },
    {
      "cell_type": "code",
      "source": [
        "from langchain_pinecone import PineconeVectorStore\n",
        "\n",
        "vector_store = PineconeVectorStore(index=index, embedding=embeddingsHF)"
      ],
      "metadata": {
        "id": "K4DIfsxGBh-B"
      },
      "execution_count": null,
      "outputs": []
    },
    {
      "cell_type": "markdown",
      "source": [
        "# Lectura de Datos"
      ],
      "metadata": {
        "id": "j9EeBEsv-SAH"
      }
    },
    {
      "cell_type": "markdown",
      "source": [
        "## Limpieza V1"
      ],
      "metadata": {
        "id": "z4VkHobL5lgB"
      }
    },
    {
      "cell_type": "code",
      "source": [
        "import re\n",
        "\n",
        "def clean_text(text):\n",
        "    # Eliminar números de página y saltos de línea extras\n",
        "    text = re.sub(r'\\d+\\s*\\n\\s*', '', text)\n",
        "\n",
        "    # Eliminar caracteres especiales y espacios extras\n",
        "    text = re.sub(r'\\s+', ' ', text).strip()\n",
        "\n",
        "    # Eliminar referencias entre paréntesis\n",
        "    text = re.sub(r'\\s*\\([^)]*\\)', '', text)\n",
        "\n",
        "    # Eliminar códigos de gradación\n",
        "    text = re.sub(r'E-\\s*[A-Za-z0-9]+\\s*R-\\s*[A-Za-z0-9]+', '', text)\n",
        "\n",
        "    # Eliminar encabezados y títulos\n",
        "    text = re.sub(r'^(.+?\\n)+', '', text)\n",
        "\n",
        "    return text"
      ],
      "metadata": {
        "id": "zEZdNhhr5qJz"
      },
      "execution_count": null,
      "outputs": []
    },
    {
      "cell_type": "code",
      "source": [
        "from langchain_community.document_loaders import PyPDFLoader\n",
        "\n",
        "# Cargar múltiples PDFs individualmente\n",
        "loader1 = PyPDFLoader(\"/content/drive/MyDrive/UTPL/CursoIntroMad/Guía didáctica_Curso Introducción.pdf\")\n",
        "loader2 = PyPDFLoader(\"/content/drive/MyDrive/UTPL/CursoIntroMad/Plan_docente_Curso introductorio-oct2024 -febrero 2025 autorizado.pdf\")\n",
        "\n",
        "guia_didactica = loader1.load()\n",
        "plan_docente = loader2.load()\n"
      ],
      "metadata": {
        "id": "DX8iseAs6v0F"
      },
      "execution_count": null,
      "outputs": []
    },
    {
      "cell_type": "code",
      "source": [
        "guia_didactica = guia_didactica[5:] #Eliminar páginas de índice y portada"
      ],
      "metadata": {
        "id": "dr7VY6OcR16_"
      },
      "execution_count": null,
      "outputs": []
    },
    {
      "cell_type": "code",
      "source": [
        "len(guia_didactica)"
      ],
      "metadata": {
        "colab": {
          "base_uri": "https://localhost:8080/"
        },
        "id": "8HIplkUWSDc0",
        "outputId": "1daff563-0d2b-47cb-bea0-6f3528b74e8f"
      },
      "execution_count": null,
      "outputs": [
        {
          "output_type": "execute_result",
          "data": {
            "text/plain": [
              "51"
            ]
          },
          "metadata": {},
          "execution_count": 13
        }
      ]
    },
    {
      "cell_type": "code",
      "source": [
        "# Combinar documentos\n",
        "docsMAD = guia_didactica + plan_docente"
      ],
      "metadata": {
        "id": "YmcoumqORoag"
      },
      "execution_count": null,
      "outputs": []
    },
    {
      "cell_type": "code",
      "source": [
        "len(docsMAD)"
      ],
      "metadata": {
        "colab": {
          "base_uri": "https://localhost:8080/"
        },
        "id": "Yj-BUpdo8yLV",
        "outputId": "e2b165a8-2b42-4bbf-c4c1-7fdd724726ac"
      },
      "execution_count": null,
      "outputs": [
        {
          "output_type": "execute_result",
          "data": {
            "text/plain": [
              "64"
            ]
          },
          "metadata": {},
          "execution_count": 15
        }
      ]
    },
    {
      "cell_type": "code",
      "source": [
        "(docsMAD[51])"
      ],
      "metadata": {
        "colab": {
          "base_uri": "https://localhost:8080/"
        },
        "id": "JwS8RfvODSRs",
        "outputId": "cf5e43fe-2a4b-4f0d-cbf1-2e3c9b2d2c09"
      },
      "execution_count": null,
      "outputs": [
        {
          "output_type": "execute_result",
          "data": {
            "text/plain": [
              "Document(metadata={'source': '/content/drive/MyDrive/UTPL/CursoIntroMad/Plan_docente_Curso introductorio-oct2024 -febrero 2025 autorizado.pdf', 'page': 0}, page_content=' \\n \\n \\n \\n \\n \\n \\nUNIVERSIDAD TÉCNICA PARTICULAR DE LOJA \\nVICERRECTORADO DE MODALIDAD ABIERTA Y A DISTANCIA \\n \\nFACULTAD:  Todas \\nCARRERA: Todas \\n \\n \\n \\nPLAN DOCENTE DEL CURSO INTRODUCCIÓN A LA \\nMODALIDAD A DISTANCIA Y EN LÍNEA (PROPEDÉUTICO) \\n \\n \\nDiseñado por: Mariana Buele Maldonado \\nRita Cabrera González \\nMayra Eugenia Armijos \\n \\nMODALIDAD DE ESTUDIO: A DISTANCIA Y EN LÍNEA \\n \\n \\n                  PERÍODO ACADÉMICO \\nOCTUBRE 2024 - FEBRERO 2025\\n')"
            ]
          },
          "metadata": {},
          "execution_count": 16
        }
      ]
    },
    {
      "cell_type": "code",
      "source": [
        "from langchain_core.documents import Document\n",
        "# Aplicar la función de limpieza manteniendo la estructura de Document\n",
        "docsMAD_clean = [\n",
        "    Document(\n",
        "        page_content=clean_text(doc.page_content),\n",
        "        metadata=doc.metadata\n",
        "    ) for doc in docsMAD\n",
        "]"
      ],
      "metadata": {
        "id": "th6M-nMf-J05"
      },
      "execution_count": null,
      "outputs": []
    },
    {
      "cell_type": "code",
      "source": [
        "len(docsMAD_clean)"
      ],
      "metadata": {
        "colab": {
          "base_uri": "https://localhost:8080/"
        },
        "id": "6KE1QGYlSm9Z",
        "outputId": "354f1651-496c-4a95-afb6-59631d0fd6b5"
      },
      "execution_count": null,
      "outputs": [
        {
          "output_type": "execute_result",
          "data": {
            "text/plain": [
              "64"
            ]
          },
          "metadata": {},
          "execution_count": 106
        }
      ]
    },
    {
      "cell_type": "code",
      "source": [
        "docsMAD_clean[51]"
      ],
      "metadata": {
        "colab": {
          "base_uri": "https://localhost:8080/"
        },
        "id": "UIJ-b8k_DMIC",
        "outputId": "9d1ac33d-a8eb-4830-a20c-ba60f728f77e"
      },
      "execution_count": null,
      "outputs": [
        {
          "output_type": "execute_result",
          "data": {
            "text/plain": [
              "Document(metadata={'source': '/content/drive/MyDrive/UTPL/CursoIntroMad/Guía didáctica_Curso Introducción.pdf', 'page': 5}, page_content='2. Metodología de aprendizaje Con el objetivo de aportar a los resultados de aprendizaje del curso Introducción a la Modalidad a distancia y en línea, se aplicará un proceso metodológico de aprendizaje activo, que valora todo el proceso de conocimiento y experiencias que trae consigo el nuevo estudiante desde el bachillerato. Aprendizaje significativo Aprender desde las emociones a partir de nuestras experiencias, nos llevan al saber pensar y hacer. El aprendizaje activo se iniciará desde su propia experiencia para facilitar el análisis y la reflexión que aporta al desarrollo del pensamiento crítico, de la observación, de la identificación de las ideas principales que faciliten poner UTPL 6')"
            ]
          },
          "metadata": {},
          "execution_count": 109
        }
      ]
    },
    {
      "cell_type": "markdown",
      "source": [
        "### Carga en la base de datos Pinecone"
      ],
      "metadata": {
        "id": "W5qdg2NjWJFF"
      }
    },
    {
      "cell_type": "code",
      "source": [
        "from uuid import uuid4\n",
        "\n",
        "uuids = [str(uuid4()) for _ in range(len(docsMAD_clean))]\n",
        "\n",
        "#Esta línea envia los documentos con sus nuevos ids a la base\n",
        "vector_store.add_documents(documents=docsMAD_clean, ids=uuids)"
      ],
      "metadata": {
        "colab": {
          "base_uri": "https://localhost:8080/"
        },
        "collapsed": true,
        "id": "BpD0O1-jTpSy",
        "outputId": "b47aa60a-d7be-4b72-ee30-9a22f361554c"
      },
      "execution_count": null,
      "outputs": [
        {
          "output_type": "execute_result",
          "data": {
            "text/plain": [
              "['67fb1c33-014f-47a1-bb64-1f8a275bc5ed',\n",
              " 'e406055b-8e76-4fef-bbf1-b01538c214c6',\n",
              " '0cfa5236-d0c5-4832-a529-1b6928ad6e48',\n",
              " 'a80ed7a6-e727-411d-a3a0-91d1ee92c531',\n",
              " 'f84c906e-79b7-486a-a72c-2d1b2c61ff55',\n",
              " 'b94fca84-fba4-4679-9042-1fa6c69c51e6',\n",
              " 'd911866d-25b9-4ef4-bf85-6966ec4c7029',\n",
              " 'ced20a1f-76aa-48b0-8d4c-b2964e3bf1ad',\n",
              " '2e53d5c3-4f95-40e0-9bc3-0f0f27f22fa6',\n",
              " '7390c8b7-bbda-43a9-8b2f-0ac94e75cfe2',\n",
              " 'd9366b25-215d-4674-9cfe-84e5a7acaa03',\n",
              " 'be0ae25f-febd-4320-aa36-bdf82137769e',\n",
              " 'ff4308fb-7420-4723-a749-bb7fcd6e3bf7',\n",
              " 'd82d5317-0235-43c2-bdc9-9f33b7a8b87c',\n",
              " '1edf64e1-12c9-4b2a-bd8b-176fb207c0e7',\n",
              " 'd708140d-71f3-41aa-8cf6-91c67e61af9e',\n",
              " 'd81a74f9-0065-4a44-9f2a-3ec75d1e6152',\n",
              " 'e0b64094-cc7c-429b-ab67-e1c1acb2167d',\n",
              " 'd5819f09-8fc6-4d3a-8e5a-94d525302c0b',\n",
              " 'b2fb78f4-04f7-4c13-af60-a7f68a587d98',\n",
              " '94a38e61-4bc7-4039-93fc-6f477914cd38',\n",
              " '50a6df1d-0c1b-49f6-a1e0-64466d0aa2f4',\n",
              " '5a874712-066b-4722-9176-d6f3787db533',\n",
              " 'c669f977-e324-48fd-9ca8-b022f6e3a0e8',\n",
              " '584225b0-4fcc-4c86-bd39-9029367e291f',\n",
              " '288ce429-20b0-46fb-8ce4-6ca67ee64424',\n",
              " 'b6c6cce8-4ad6-4de5-8166-abbebc6a1059',\n",
              " '381ee068-fea7-4468-8001-abbfddb793da',\n",
              " '28b521b0-03ab-447c-8466-c597432f35d3',\n",
              " '14f52e2b-cff4-4e4b-a862-d3b8ee64fe34',\n",
              " '77deed4d-63cd-42d9-900d-15964f17e0ac',\n",
              " '64a7dceb-9d49-4471-b3c3-82cb1c8b1b7e',\n",
              " '1ca36b67-45c2-4ba3-a371-19d18d49025c',\n",
              " '33010685-9942-4b80-a9ca-f5a896098ceb',\n",
              " 'ca1ac7af-cdb9-428f-846d-df71a4036003',\n",
              " '651847ca-3164-4ee4-9df6-468d7af56130',\n",
              " '0ec5a369-f8a2-43b5-8b57-99b7fb5d4f76',\n",
              " '02aa428e-5f7a-4b22-bb93-f5575439396e',\n",
              " '0fa49b3b-dac3-442d-aa4c-7695c179b359',\n",
              " '2010e4bd-f052-453f-9de0-cf55840d758e',\n",
              " '12bb34e3-d36b-48fa-b092-f5e04e3e981e',\n",
              " '858db7e4-224d-48c0-9d48-8cb24a09626f',\n",
              " 'dc641af6-5c6f-4bb6-9760-84ebf84f1449',\n",
              " '975c8d4f-04ab-48cb-abfa-e33d9c8ff351',\n",
              " '1a8b0cf4-2fed-4e14-9102-7939297006bb',\n",
              " '17f8b411-b112-4e0a-a610-b6d6595bb954',\n",
              " '0b489ece-8659-437e-868f-ac44835c85ff',\n",
              " '5f1db068-6d82-4e56-bc4d-ab8f4823ff7c',\n",
              " '3e930386-c7d2-48ec-89a4-5d23f1293260',\n",
              " '0bcaa5b7-e131-454a-89b7-23ce4d80e891',\n",
              " 'fe44bd6a-5bcd-433e-b4b4-f07145702083',\n",
              " 'ee3e601d-3ad0-47c2-8a25-b7c23b598aba',\n",
              " '0e6cd1f5-2c9e-41e4-97dd-8112f1d6ad3a',\n",
              " 'b5f9f656-56b2-4c39-9246-bfbf95d4b1a2',\n",
              " '2e16645f-a01f-4699-97c7-8d0fbd1acc54',\n",
              " '7e79b8be-798c-4fa6-a81c-d50f0506e088',\n",
              " 'a174816c-0611-49d9-a212-ba8872a1c27d',\n",
              " 'ad107fb6-9c82-4a12-b710-7f27a088f05a',\n",
              " '3c6e3a74-6288-4f92-9dda-a823958a2592',\n",
              " 'cd465431-82d0-478e-9e25-21dd93a1f7a8',\n",
              " 'b53abba5-e00f-42ab-8f0d-fc0f65e59257',\n",
              " 'fa1e04ff-086a-4cba-aa8d-1ce980d21416',\n",
              " '5bf608cd-2655-4be3-b874-e6f589541f8a',\n",
              " '4038b0de-fc59-4ef4-85a7-fd2e8da5290e']"
            ]
          },
          "metadata": {},
          "execution_count": 110
        }
      ]
    },
    {
      "cell_type": "code",
      "source": [
        "results = vector_store.similarity_search(\n",
        "    \"El aprendizaje activo se iniciará desde su propia experiencia para facilitar el análisis y la reflexión\",\n",
        "    k=2\n",
        ")\n",
        "for res in results:\n",
        "    print(f\"* {res.page_content} [{res.metadata}]\")"
      ],
      "metadata": {
        "colab": {
          "base_uri": "https://localhost:8080/"
        },
        "id": "bhMh8dybUSIP",
        "outputId": "724047b3-e7c0-44b2-8955-c7ffb82ecf8e"
      },
      "execution_count": null,
      "outputs": [
        {
          "output_type": "stream",
          "name": "stdout",
          "text": [
            "* 2. Metodología de aprendizaje Con el objetivo de aportar a los resultados de aprendizaje del curso Introducción a la Modalidad a distancia y en línea, se aplicará un proceso metodológico de aprendizaje activo, que valora todo el proceso de conocimiento y experiencias que trae consigo el nuevo estudiante desde el bachillerato. Aprendizaje significativo Aprender desde las emociones a partir de nuestras experiencias, nos llevan al saber pensar y hacer. El aprendizaje activo se iniciará desde su propia experiencia para facilitar el análisis y la reflexión que aporta al desarrollo del pensamiento crítico, de la observación, de la identificación de las ideas principales que faciliten poner UTPL 6 [{'page': 5.0, 'source': '/content/drive/MyDrive/UTPL/CursoIntroMad/Guía didáctica_Curso Introducción.pdf'}]\n",
            "* 2. ¿Qué aplicaciones tiene el pensamiento analítico en la vida de un estudiante? 3. ¿Cómo resolver un ejercicio de pensamiento analítico? 2.4 Pensamiento Abstracto 1. ¿Cómo define usted al pensamiento abstracto? 2. ¿Cuál es la aplicación del pensamiento abstracto? 3. ¿Qué utilidad usted le otorga al pensamiento abstracto en el desarrollo de los procesos de aprendizaje? 3 Desarrollo del desafío Resolver cada uno de los cuestionarios de habilidades básicas Analizar el resultado de cada cuestionario Reflexionar sobre ¿cómo fortalecer las habilidades básicas? 4. Verificación de la solución en el estudio de la carrera: Autodefinir dos compromisos de mejora que impactarían positivamente en el desarrollo de los estudios de carrera. 4. Evaluación del curso Introducción a la Modalidad a Distancia y en Línea Unidad Actividad Instrumento Ejecución Calificación Peso Unidad Familiarización con el Cuestionario Semana 2 3.5 35% EVA Unidad Sistema de Educación a Distancia y en Línea Evaluar los conocimientos a través de Cuestionario Semana 4 4.0 40% diferentes preguntas Fase presencial Semana 5 2.5 25% Subtotal 10 100% TOTAL 10 D. Datos del equipo docente: Equipo docente [{'page': 10.0, 'source': '/content/drive/MyDrive/UTPL/CursoIntroMad/Plan_docente_Curso introductorio-oct2024 -febrero 2025 autorizado.pdf'}]\n"
          ]
        }
      ]
    },
    {
      "cell_type": "markdown",
      "source": [
        "# RAG\n"
      ],
      "metadata": {
        "id": "_d4hTSv3APLj"
      }
    },
    {
      "cell_type": "code",
      "source": [
        "from langchain_google_genai import ChatGoogleGenerativeAI\n",
        "llm = ChatGoogleGenerativeAI(model=\"gemini-1.5-flash-8b\",google_api_key=GOOGLE_API_KEY, temperature=0.3, max_tokens=500)"
      ],
      "metadata": {
        "id": "LBGowJLWEiQ-"
      },
      "execution_count": null,
      "outputs": []
    },
    {
      "cell_type": "code",
      "source": [
        "from langchain.prompts import ChatPromptTemplate\n",
        "from langchain_core.output_parsers import StrOutputParser\n",
        "from langchain_core.runnables import RunnablePassthrough\n",
        "\n",
        "\n",
        "def rag(pregunta):\n",
        "  retriever = vector_store.as_retriever(\n",
        "    search_type=\"similarity_score_threshold\",\n",
        "    search_kwargs={\"k\": 4, \"score_threshold\": 0.5},\n",
        "  )\n",
        "\n",
        "  prompt_template = \"\"\"\n",
        "    Actúa como un tutor virtual especializado en brindar explicaciones claras y detalladas.\n",
        "    Responde las siguientes preguntas basándote únicamente en el siguiente contexto,\n",
        "    proporcionando ejemplos prácticos y explicaciones paso a paso cuando sea necesario:\n",
        "    {context}\n",
        "    Pregunta: {question}\n",
        "  \"\"\"\n",
        "  prompt = ChatPromptTemplate.from_template(prompt_template)\n",
        "\n",
        "  chain = (\n",
        "    {\"context\": retriever, \"question\": RunnablePassthrough()}\n",
        "    | prompt\n",
        "    | llm\n",
        "    | StrOutputParser()\n",
        "  )\n",
        "  result = chain.invoke(pregunta)\n",
        "  print(result)\n"
      ],
      "metadata": {
        "id": "uM-RnyPzAQDY"
      },
      "execution_count": null,
      "outputs": []
    },
    {
      "cell_type": "markdown",
      "source": [
        "Conteo de busquedas: 12\n"
      ],
      "metadata": {
        "id": "jZCXpCVEXhHb"
      }
    },
    {
      "cell_type": "markdown",
      "source": [
        "# Preguntas al RAG"
      ],
      "metadata": {
        "id": "66wRIBtZELgZ"
      }
    },
    {
      "cell_type": "markdown",
      "source": [
        "## Sin límite de tokens y con Flash 1.5:"
      ],
      "metadata": {
        "id": "xNdE-Wb2EOIc"
      }
    },
    {
      "cell_type": "code",
      "source": [
        "rag(\"como uso el EVA?\")"
      ],
      "metadata": {
        "colab": {
          "base_uri": "https://localhost:8080/"
        },
        "id": "bAQ8wU87V_-M",
        "outputId": "d10cb0b8-0c18-4d42-d65c-c3ecf7945bf5"
      },
      "execution_count": null,
      "outputs": [
        {
          "output_type": "stream",
          "name": "stdout",
          "text": [
            "El texto describe el EVA como un espacio de interacción para estudiantes, accesible desde una aplicación móvil (Canvas Student) y a través de un navegador web.  Su uso abarca diversas funciones:\n",
            "\n",
            "**1. Comunicación:**\n",
            "\n",
            "* **Bandeja de entrada:** Permite mantenerse comunicado desde cualquier lugar.\n",
            "\n",
            "**2. Aprendizaje:**\n",
            "\n",
            "* **Autoevaluaciones:**  Se ofrecen autoevaluaciones para verificar el conocimiento sobre temas específicos (ej: verdadero/falso sobre el tema 1.1).  Estas proporcionan retroalimentación para reforzar el aprendizaje.\n",
            "* **Actividades del curso:** El EVA contiene diferentes tipos de actividades para verificar el logro de los resultados de aprendizaje, incluyendo:\n",
            "    * **Tareas:**  Envío de trabajos.\n",
            "    * **Evaluaciones:** Pruebas o exámenes.\n",
            "    * **Foros de discusión:** Participación en debates.\n",
            "    * **Chat y videocolaboración:**  Interacción en tiempo real con otros estudiantes o profesores.  Cada actividad tiene parámetros como calificación, fechas límite, duración e intentos permitidos.  Es crucial prestar atención a estos parámetros.\n",
            "* **Recursos de aprendizaje:**  El EVA proporciona acceso a contenidos, recursos y actividades de aprendizaje.\n",
            "\n",
            "**3. Ayuda y Soporte:**\n",
            "\n",
            "* **Ayuda (1.8):**  Ofrece diferentes maneras de obtener ayuda:\n",
            "    * **Chat en vivo:** Permite comunicarse con un representante de soporte técnico del EVA en tiempo real.\n",
            "    * **Página de Recursos EVA:**  Proporciona manuales, instructivos y videos para el manejo del EVA.\n",
            "    * **Buzón de consultas UTPL:**  Para realizar consultas a la universidad a través de mensajes.\n",
            "* **Preguntas frecuentes del EVA:**  Brinda ayuda escrita y visual para resolver dudas sobre el uso de la plataforma.\n",
            "\n",
            "**4. Trámites académicos:**  Para realizar trámites académicos, se debe acceder a la dirección `https://servicios.utpl.edu.ec` (según el texto).\n",
            "\n",
            "\n",
            "En resumen, el EVA se utiliza para la comunicación, el aprendizaje a través de diversas actividades, la obtención de ayuda y la realización de trámites académicos.  Para un uso efectivo, es importante familiarizarse con sus diferentes funciones y recursos, utilizando la ayuda disponible cuando sea necesario.\n",
            "\n"
          ]
        }
      ]
    },
    {
      "cell_type": "markdown",
      "source": [
        "## Sin limite de tokens con Flash 8B"
      ],
      "metadata": {
        "id": "n9CpZ88nGnF0"
      }
    },
    {
      "cell_type": "code",
      "source": [
        "#Sin limite de tokens pero con el flash 8B\n",
        "rag(\"Como uso el EVA?\")"
      ],
      "metadata": {
        "colab": {
          "base_uri": "https://localhost:8080/"
        },
        "id": "7I-n_nu7GT2f",
        "outputId": "4a452c80-37f1-44d2-9c75-3c8c13872b9f"
      },
      "execution_count": null,
      "outputs": [
        {
          "output_type": "stream",
          "name": "stdout",
          "text": [
            "El EVA (Entorno Virtual de Aprendizaje) te permite interactuar y acceder a recursos de aprendizaje.  Para utilizarlo correctamente, debes seguir estos pasos y considerar las diferentes herramientas:\n",
            "\n",
            "**1. Navegación:**\n",
            "\n",
            "* **Menú de navegación global:**  Te permite acceder a diferentes secciones del curso, como contenido, herramientas y navegación del curso.  Observa la imagen 1, 2, 3 y 4 (si las imágenes están disponibles) para identificar las opciones en el menú.\n",
            "* **Bandeja de entrada:**  Mantente comunicado con la plataforma desde cualquier lugar.  Utiliza esta función para interactuar con tus compañeros y tutores.\n",
            "\n",
            "**2. Actividades de aprendizaje:**\n",
            "\n",
            "* **Autoevaluaciones:**  El EVA ofrece autoevaluaciones para que evalúes tus conocimientos.  Un ejemplo es la autoevaluación sobre los temas 1 al 4, que se basa en preguntas de verdadero o falso sobre el tema 1.1.  Cada respuesta te proporciona retroalimentación.\n",
            "* **Tareas, evaluaciones y foros:**  Estas son actividades comunes en el EVA.  Las tareas requieren que completes una actividad, las evaluaciones miden tu comprensión y los foros te permiten discutir con otros estudiantes.  Presta atención a las fechas límite, duración, intentos y otros parámetros para cada actividad.  Observa los videos de funcionamiento de las actividades más comunes.\n",
            "* **Chat y videocolaboración:**  Estas herramientas te permiten interactuar en tiempo real con otros estudiantes y tutores.\n",
            "\n",
            "**3.  Ayuda y soporte:**\n",
            "\n",
            "* **Chat en vivo:**  Para preguntas sobre el uso del EVA, puedes acceder al chat en vivo para comunicarte con un representante de soporte técnico.\n",
            "* **Página de Recursos EVA:**  Aquí encontrarás manuales, instructivos y videos para el manejo del EVA.  Revisa estos recursos para aprender a usar las diferentes funciones.\n",
            "* **Buzón de consultas UTPL:**  Para consultas académicas o administrativas que no sean sobre el uso del EVA, utiliza el buzón de consultas de la UTPL.\n",
            "\n",
            "**4.  Aplicación móvil (Canvas Student):**\n",
            "\n",
            "* El EVA también está disponible a través de la aplicación móvil \"Canvas Student\".  Esto te permite acceder a la plataforma desde tu dispositivo móvil.\n",
            "\n",
            "**5.  Trámites académicos:**\n",
            "\n",
            "* Para realizar trámites académicos, debes ingresar a la dirección web proporcionada: https://servicios.utpl.edu.ec.\n",
            "\n",
            "**6.  Preguntas frecuentes:**\n",
            "\n",
            "* Las preguntas frecuentes del EVA te ofrecen ayuda escrita y visual para resolver dudas sobre su uso.\n",
            "\n",
            "**Ejemplo práctico:**\n",
            "\n",
            "Si necesitas enviar una tarea, primero debes identificar la tarea en el menú de actividades. Luego, debes acceder a la tarea, leer las instrucciones y completar la actividad solicitada.  Finalmente, debes enviar la tarea antes de la fecha límite.\n",
            "\n",
            "**En resumen:**  El EVA es una plataforma integral para el aprendizaje.  Para utilizarlo eficazmente, debes explorar sus diferentes funciones, recursos y herramientas de ayuda.  Presta atención a las instrucciones específicas de cada actividad y consulta las preguntas frecuentes o el chat en vivo si tienes dudas.\n",
            "\n"
          ]
        }
      ]
    },
    {
      "cell_type": "markdown",
      "source": [
        "## Con límite de tokens (500) y flash 1.5:"
      ],
      "metadata": {
        "id": "lEsbuDb1ERA2"
      }
    },
    {
      "cell_type": "code",
      "source": [
        "rag(\"como uso el EVA?\")"
      ],
      "metadata": {
        "colab": {
          "base_uri": "https://localhost:8080/"
        },
        "id": "7KgW08-NEVh7",
        "outputId": "f6c5edad-5955-4ee2-fcf2-61588a727b54"
      },
      "execution_count": null,
      "outputs": [
        {
          "output_type": "stream",
          "name": "stdout",
          "text": [
            "El texto describe el EVA como un espacio de interacción en línea, accesible también a través de una aplicación móvil llamada Canvas Student.  Su uso abarca varias funciones clave:\n",
            "\n",
            "**1. Comunicación:**  La bandeja de entrada del EVA permite mantenerse comunicado desde cualquier lugar.\n",
            "\n",
            "**2. Aprendizaje:** El EVA contiene:\n",
            "\n",
            "* **Contenidos del curso:**  Material de aprendizaje organizado en unidades y temas.\n",
            "* **Actividades de aprendizaje:**  Para verificar el logro de los resultados de aprendizaje.  Estas incluyen:\n",
            "    * **Tareas:**  Envío de trabajos.\n",
            "    * **Evaluaciones:**  Pruebas o exámenes.\n",
            "    * **Foros de discusión:**  Espacios para interactuar con otros estudiantes y el profesor.\n",
            "    * **Chat y videocolaboración:**  Herramientas para comunicación en tiempo real.  Cada actividad tiene parámetros como calificación, fechas límite, duración e intentos permitidos. Es crucial prestar atención a esta parametrización.\n",
            "* **Autoevaluaciones:**  Para comprobar el conocimiento adquirido sobre temas específicos (ej: un juego de verdadero/falso sobre el tema 1.1).  Estas ofrecen retroalimentación.\n",
            "\n",
            "**3. Ayuda y Soporte:**  El EVA ofrece varias opciones de ayuda:\n",
            "\n",
            "* **Chat en vivo:**  Para comunicarse con un representante de soporte técnico.\n",
            "* **Página de Recursos EVA:**  Contiene manuales, instructivos y videos para el manejo del EVA.\n",
            "* **Buzón de consultas UTPL:**  Para realizar consultas a la universidad.  Para trámites académicos, se debe usar la dirección `https://servicios.utpl.edu.ec` (según el texto).\n",
            "\n",
            "**En resumen, para usar el EVA debes:**\n",
            "\n",
            "1. **Acceder:**  A través de la plataforma web o la aplicación móvil Canvas Student.\n",
            "2. **Navegar:**  Utilizar el menú de navegación para acceder a los contenidos, actividades y herramientas.\n",
            "3. **Participar:**  Completar las actividades de aprendizaje (tareas, evaluaciones, foros), utilizando las herramientas de comunicación (chat, bandeja de entrada).\n",
            "4. **Buscar ayuda:**  Utilizar el chat en vivo, la página de recursos o el buzón de consultas si tienes dudas o necesitas asistencia.\n",
            "\n",
            "\n",
            "El texto enfatiza la importancia de familiarizarse con la aplicación para optimizar el tiempo y aprovechar al máximo las funcionalidades del EVA.  Se recomiendan videos para familiarizarse\n"
          ]
        }
      ]
    },
    {
      "cell_type": "code",
      "source": [
        "rag(\"Dime 3 preguntas para comprobar mi entendimiento del EVA\")"
      ],
      "metadata": {
        "colab": {
          "base_uri": "https://localhost:8080/"
        },
        "id": "MaXxWeSjE0nX",
        "outputId": "5f18afc6-00b3-4369-a9f6-9ea62977b3ac"
      },
      "execution_count": null,
      "outputs": [
        {
          "output_type": "stream",
          "name": "stdout",
          "text": [
            "Basándome en los documentos proporcionados, aquí hay 3 preguntas para comprobar tu entendimiento del EVA (Entorno Virtual de Aprendizaje), junto con las respuestas esperadas y explicaciones:\n",
            "\n",
            "\n",
            "**Pregunta 1:** ¿De qué maneras puedo ordenar la lista de calificaciones en el EVA?\n",
            "\n",
            "**Respuesta esperada:**  La lista de calificaciones se puede ordenar por fecha de entrega, grupo de tareas, módulo y título de la actividad. La fecha de entrega es la opción predeterminada.\n",
            "\n",
            "**Explicación:**  El documento menciona explícitamente estas opciones de ordenamiento en la sección de calificaciones.  Esto permite al estudiante una mayor flexibilidad para revisar su progreso en el curso.\n",
            "\n",
            "\n",
            "**Pregunta 2:** ¿Qué tipos de actividades de aprendizaje puedo encontrar en el EVA, y qué información importante debo considerar al participar en ellas?\n",
            "\n",
            "**Respuesta esperada:** El EVA incluye tareas, evaluaciones, foros de discusión, chat y videocolaboración.  Al participar, es crucial considerar la parametrización de cada actividad, incluyendo la calificación, fechas de disponibilidad y finalización, duración e intentos permitidos.\n",
            "\n",
            "**Explicación:** El documento describe estos tipos de actividades y enfatiza la importancia de prestar atención a los parámetros específicos de cada una para asegurar el cumplimiento dentro de los plazos establecidos.  Esto implica entender las reglas y restricciones de cada actividad.\n",
            "\n",
            "\n",
            "**Pregunta 3:** ¿Cómo puedo gestionar mi perfil y la comunicación dentro del EVA?\n",
            "\n",
            "**Respuesta esperada:** Puedes actualizar tu foto y biografía en la sección \"Perfil\".  Puedes enviar mensajes a docentes y compañeros de clase a través de la bandeja de entrada del EVA.  Además, puedes configurar tus notificaciones por correo electrónico y agregar información de contacto adicional en la sección de \"Cuenta\". Los mensajes no leídos se indican con un punto azul.\n",
            "\n",
            "**Explicación:**  Los documentos mencionan la posibilidad de editar el perfil, la comunicación con otros usuarios (docentes y compañeros) y la configuración de notificaciones.  La información sobre el punto azul que indica mensajes no leídos se encuentra en dos documentos distintos, reforzando la importancia de esta característica.  La gestión del perfil y la comunicación son aspectos clave para una experiencia exitosa en el EVA.\n",
            "\n"
          ]
        }
      ]
    },
    {
      "cell_type": "markdown",
      "source": [
        "## Con límite de tokens (500) y flash 8B:"
      ],
      "metadata": {
        "id": "r3cgwQIWHN8p"
      }
    },
    {
      "cell_type": "code",
      "source": [
        "rag(\"como uso el EVA?\")"
      ],
      "metadata": {
        "colab": {
          "base_uri": "https://localhost:8080/"
        },
        "id": "QHEaI0OjHLz4",
        "outputId": "f46e874f-0f3d-4e22-f3c4-1b6f78d2cf9e"
      },
      "execution_count": null,
      "outputs": [
        {
          "output_type": "stream",
          "name": "stdout",
          "text": [
            "El documento describe cómo usar el Entorno Virtual de Aprendizaje (EVA) de la UTPL.  No hay una única respuesta a \"cómo usar el EVA\", ya que depende de la actividad específica que se quiera realizar.  Sin embargo, el documento proporciona información sobre varias funcionalidades y recursos.\n",
            "\n",
            "Aquí te presento una guía paso a paso sobre cómo usar algunas de las funcionalidades más comunes:\n",
            "\n",
            "**1. Navegación y Comunicación:**\n",
            "\n",
            "* **Bandeja de entrada:** El EVA te permite mantenerte comunicado desde cualquier lugar.  Para usarla, debes acceder a la bandeja de entrada del EVA.  No se detalla cómo acceder a ella, pero se asume que es parte de la interfaz principal.\n",
            "* **Menú de navegación global, menú de herramientas del curso, menú de navegación del curso:**  Estos menús te guían por el contenido del curso, las herramientas disponibles y la estructura del EVA.  Para usarlos, navega por las opciones disponibles en la interfaz principal.\n",
            "\n",
            "**2. Actividades de Aprendizaje:**\n",
            "\n",
            "* **Autoevaluaciones:**  El documento menciona una autoevaluación sobre los temas 1 al 4, basada en preguntas de verdadero o falso sobre el tema 1.1.  Para realizarla, deberías encontrar la actividad en el EVA y responder las preguntas.  La plataforma te dará retroalimentación, independientemente de la respuesta que escojas.\n",
            "* **Tareas, evaluaciones, foros de discusión, chat y videocolaboración:**  Estas son diferentes actividades de aprendizaje.  Para usarlas, busca las actividades en el EVA y sigue las instrucciones específicas de cada una.  Ten en cuenta las fechas límite, la calificación y otros parámetros.  Por ejemplo, para participar en un foro, debes encontrar el foro en el EVA, leer las instrucciones y escribir tu respuesta.\n",
            "\n",
            "**3. Apoyo y Ayuda:**\n",
            "\n",
            "* **Chat en vivo:**  Para acceder al chat en vivo, busca la opción en el EVA.  Te permitirá comunicarte con un representante de soporte técnico para despejar dudas sobre el uso del EVA.\n",
            "* **Página de Recursos EVA:**  Aquí encontrarás manuales, instructivos y videos para el manejo del EVA.  Para acceder a ellos, busca la sección de \"Recursos\" en el EVA.\n",
            "* **Buzón de consultas UTPL:**  Para contactar a la UTPL con otras consultas, busca el buzón de consultas en el EVA.\n",
            "\n",
            "**4.\n"
          ]
        }
      ]
    },
    {
      "cell_type": "code",
      "source": [
        "rag(\"Dime 3 preguntas para comprobar mi entendimiento del EVA\")"
      ],
      "metadata": {
        "colab": {
          "base_uri": "https://localhost:8080/"
        },
        "id": "SrOIpXhEHScH",
        "outputId": "f9fc3e66-024a-4405-816c-5e1356e04f7c"
      },
      "execution_count": null,
      "outputs": [
        {
          "output_type": "stream",
          "name": "stdout",
          "text": [
            "Basándome en el texto proporcionado, aquí tienes 3 preguntas para comprobar tu entendimiento del Entorno Virtual de Aprendizaje (EVA):\n",
            "\n",
            "1. **¿Qué opciones de ordenamiento ofrece la sección de \"Calificaciones\" del EVA, y cuál es la predeterminada?**  (Esta pregunta evalúa tu comprensión de la funcionalidad de la sección de calificaciones dentro del EVA, incluyendo la capacidad de ordenar por diferentes criterios y el conocimiento del criterio predeterminado).\n",
            "\n",
            "\n",
            "2. **Describe tres tipos de actividades de aprendizaje que se pueden encontrar en un EVA, y explica brevemente cómo se diferencian entre sí.** (Esta pregunta evalúa tu comprensión de la variedad de actividades que un EVA puede ofrecer, incluyendo tareas, evaluaciones y foros de discusión, y tu capacidad para distinguirlas).\n",
            "\n",
            "\n",
            "3. **¿Cómo se pueden gestionar las notificaciones en el EVA y qué información adicional se puede registrar en la sección de \"Canales de contacto\"?** (Esta pregunta evalúa tu comprensión de la configuración personalizable del EVA, incluyendo la gestión de notificaciones y la posibilidad de agregar información de contacto adicional).\n",
            "\n"
          ]
        }
      ]
    },
    {
      "cell_type": "markdown",
      "source": [
        "## Otras Preguntas"
      ],
      "metadata": {
        "id": "Hde7XBQDETQP"
      }
    },
    {
      "cell_type": "code",
      "source": [
        "rag(\"que debo hacer en la semana 2\")"
      ],
      "metadata": {
        "colab": {
          "base_uri": "https://localhost:8080/"
        },
        "id": "nEd0pK25YuaY",
        "outputId": "c8b8d369-288b-48e9-b796-417db6e2c4ac"
      },
      "execution_count": null,
      "outputs": [
        {
          "output_type": "stream",
          "name": "stdout",
          "text": [
            "Basándome únicamente en los documentos proporcionados, no hay información específica sobre qué se debe hacer en la semana 2.  Los documentos describen aspectos del entorno virtual de aprendizaje (EVA) de la UTPL, incluyendo el uso del calendario, la bandeja de entrada, la gestión de archivos y la autoevaluación de habilidades (mencionada para la semana 4).  No hay un plan de estudios o calendario detallado que indique las tareas para la semana 2.\n",
            "\n"
          ]
        }
      ]
    },
    {
      "cell_type": "code",
      "source": [
        "rag(\"qué permite la herramienta studio?\")"
      ],
      "metadata": {
        "colab": {
          "base_uri": "https://localhost:8080/"
        },
        "id": "_nAiWS4gZcl_",
        "outputId": "839309d8-602b-484d-ea13-f3f0f10a1748"
      },
      "execution_count": null,
      "outputs": [
        {
          "output_type": "stream",
          "name": "stdout",
          "text": [
            "Basado en el texto proporcionado, la herramienta Studio permite grabar, cargar y compartir videos.  También permite agregar videos desde un computador y desde YouTube.\n",
            "\n"
          ]
        }
      ]
    },
    {
      "cell_type": "code",
      "source": [
        "rag(\"En que semana es la Autoevaluación de habilidades básicas y compromiso de mejora para el estudio en la carrera?\")"
      ],
      "metadata": {
        "id": "xx9W6Kf9ZrQx",
        "colab": {
          "base_uri": "https://localhost:8080/"
        },
        "outputId": "d48b5867-6ccb-4cbc-f766-be7849db8777"
      },
      "execution_count": null,
      "outputs": [
        {
          "output_type": "stream",
          "name": "stdout",
          "text": [
            "La autoevaluación de habilidades básicas y compromiso de mejora para el estudio en la carrera se realiza en la cuarta semana.\n",
            "\n"
          ]
        }
      ]
    },
    {
      "cell_type": "code",
      "source": [
        "rag(\"que debo realizar en la semana 4\")"
      ],
      "metadata": {
        "colab": {
          "base_uri": "https://localhost:8080/"
        },
        "id": "tQh7G3bdgmPR",
        "outputId": "78158aa9-8a8f-4403-cb89-843f58816c3c"
      },
      "execution_count": null,
      "outputs": [
        {
          "output_type": "stream",
          "name": "stdout",
          "text": [
            "La información proporcionada no especifica qué actividades se deben realizar en la semana 4.  Los documentos describen las funcionalidades de la plataforma UTPL (Calendario, Bandeja de entrada, Archivos, Perfil, etc.), pero no incluyen un plan de estudios o un calendario con las tareas semanales.  Para saber qué hacer en la semana 4, necesitaría consultar el programa del curso o el calendario académico proporcionado por su instructor.\n",
            "\n"
          ]
        }
      ]
    },
    {
      "cell_type": "code",
      "source": [
        "rag(\"de que trata la guía didáctica?\")"
      ],
      "metadata": {
        "colab": {
          "base_uri": "https://localhost:8080/"
        },
        "id": "5Whf3crSaFSW",
        "outputId": "68f755ba-7bc3-46ab-b460-2389c27c59d4"
      },
      "execution_count": null,
      "outputs": [
        {
          "output_type": "stream",
          "name": "stdout",
          "text": [
            "Basándome únicamente en los documentos proporcionados, la guía didáctica del curso \"Introducción a la Modalidad a Distancia y en Línea\" trata sobre la familiarización con el Entorno Virtual de Aprendizaje (EVA) y el sistema de educación a distancia de la universidad.  \n",
            "\n",
            "Específicamente, se enfoca en:\n",
            "\n",
            "* **Familiarización con el EVA (Unidad 1):**  El documento menciona un video introductorio e indicaciones generales para navegar y utilizar el EVA.  El objetivo es que el estudiante se familiarice con las funcionalidades del EVA para desarrollar las actividades del curso.  Se evalúa mediante un cuestionario de 10 puntos.\n",
            "\n",
            "* **Sistema de Educación a Distancia (Unidad 2):**  Esta unidad cubre el modelo educativo y pedagógico de la modalidad a distancia y en línea, además de adquirir competencias relacionadas con hábitos y técnicas de estudio.  También se evalúa con un cuestionario de 10 puntos.\n",
            "\n",
            "* **Fase Presencial:**  La guía menciona talleres presenciales en centros de apoyo al final del curso, con una calificación de 10 puntos.\n",
            "\n",
            "Además, la guía incluye un apartado de \"desafíos\" para fortalecer aptitudes básicas, aunque el contenido específico de estos desafíos se detalla en otro documento.  Finalmente, se menciona una encuesta de satisfacción para mejorar el curso.\n",
            "\n"
          ]
        }
      ]
    },
    {
      "cell_type": "code",
      "source": [
        "rag(\"\")"
      ],
      "metadata": {
        "id": "M5jrmlmfaKpO"
      },
      "execution_count": null,
      "outputs": []
    }
  ]
}